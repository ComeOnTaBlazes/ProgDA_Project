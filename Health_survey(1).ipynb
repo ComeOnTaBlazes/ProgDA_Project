{
 "cells": [
  {
   "cell_type": "code",
   "execution_count": 1,
   "metadata": {},
   "outputs": [],
   "source": [
    "import pandas as pd\n",
    "import numpy as np\n",
    "import seaborn as sns\n",
    "import matplotlib.pyplot as plt"
   ]
  },
  {
   "cell_type": "markdown",
   "metadata": {},
   "source": [
    "### Simulating a real world phenomena\n",
    "\n",
    "Chosen phenom - physical health of the individual, based off results from a pseudo-survey.\n",
    "\n",
    "In essence I hope to simulate the results of a survey asking $n$ number of people about their health and lifestyle and attributing a grade of their general health. From the created dataset we would hope to predict the overall health of the inividual form their own inputs to the survey."
   ]
  },
  {
   "cell_type": "markdown",
   "metadata": {},
   "source": [
    "Age\n",
    "\n",
    "Sex\n",
    "\n",
    "Height/Weight\n",
    "\n",
    "Drink(units/week)\n",
    "\n",
    "Smoker (cigarettes/day)\n",
    "\n",
    "Previous smoker( length of time somking)\n",
    "\n",
    "Hours of exercise(/week)\n",
    "\n",
    "Consistency of exercise (regular exercise)\n",
    "\n",
    "Diet( categorise)\n",
    "\n",
    "Calories eaten per day\n",
    "\n",
    "Average hours of sleep\n",
    "\n",
    "Water drank/ day\n",
    "\n",
    "Underlying health condition"
   ]
  },
  {
   "cell_type": "markdown",
   "metadata": {},
   "source": [
    "So our first item it tocreate a dateset with these criteria as column headers."
   ]
  },
  {
   "cell_type": "code",
   "execution_count": 2,
   "metadata": {},
   "outputs": [],
   "source": [
    "columns=['Age', 'Sex','Height', 'Weight', 'Drinker', 'Alcohol_units_wk','Smoker', 'Cigs/day', 'Exercise_wk', 'Diet',\n",
    "                           'Calories_day','Hours_Sleep', 'Water_l_day']"
   ]
  },
  {
   "cell_type": "code",
   "execution_count": 3,
   "metadata": {},
   "outputs": [],
   "source": [
    "df = pd.DataFrame(columns = columns)"
   ]
  },
  {
   "cell_type": "code",
   "execution_count": 4,
   "metadata": {},
   "outputs": [],
   "source": [
    "rng = np.random.default_rng()"
   ]
  },
  {
   "cell_type": "code",
   "execution_count": 5,
   "metadata": {},
   "outputs": [],
   "source": [
    "def age():\n",
    "    return rng.integers(18, 60) "
   ]
  },
  {
   "cell_type": "code",
   "execution_count": 6,
   "metadata": {},
   "outputs": [],
   "source": [
    "def sexes():\n",
    "    sexes = ['Male', 'Female']\n",
    "    sex  = rng.choice((sexes))\n",
    "    return sex"
   ]
  },
  {
   "cell_type": "code",
   "execution_count": 58,
   "metadata": {},
   "outputs": [],
   "source": [
    "def Heights():\n",
    "    height = [rng.normal(179, 8) if x == 'Male' else rng.normal(165, 7) for x in df['Sex']]\n",
    "    return height"
   ]
  },
  {
   "cell_type": "code",
   "execution_count": 8,
   "metadata": {},
   "outputs": [],
   "source": [
    "def drinker():\n",
    "    drinker = ['NonDrinker', 'Drinker']\n",
    "    drinkers  = rng.choice(drinker,p=[0.15, 0.85])\n",
    "    return drinkers"
   ]
  },
  {
   "cell_type": "code",
   "execution_count": 9,
   "metadata": {},
   "outputs": [],
   "source": [
    "def units_drank():\n",
    "    units = [rng.normal(0.223, 0.075) if x == 'Drinker' else 0 for x in df['Drinker']]\n",
    "    return units"
   ]
  },
  {
   "cell_type": "code",
   "execution_count": 20,
   "metadata": {},
   "outputs": [],
   "source": [
    "def smoker():\n",
    "    smoker = ['non_smoker', 'smoker']\n",
    "    smokers  = rng.choice(smoker,p=[0.83, 0.17])\n",
    "    return smokers"
   ]
  },
  {
   "cell_type": "code",
   "execution_count": 11,
   "metadata": {},
   "outputs": [],
   "source": [
    "def cig_smoked():\n",
    "    cigarettes_smoked = [rng.normal(12.5, 5) if x == 'smoker' else 0 for x in df['Smoker']]\n",
    "    return cigarettes_smoked"
   ]
  },
  {
   "cell_type": "code",
   "execution_count": 12,
   "metadata": {},
   "outputs": [],
   "source": [
    "def Exercise():\n",
    "    hours_exercised = rng.normal(1.5, 0.5)\n",
    "    return hours_exercised"
   ]
  },
  {
   "cell_type": "code",
   "execution_count": 13,
   "metadata": {},
   "outputs": [],
   "source": [
    "def Diet():\n",
    "    diet_vals = ['Vegetarian', 'Fatty', 'Sugary', 'Balanced']\n",
    "    diet  = rng.choice(diet_vals,p=[0.10, 0.17, 0.33, 0.40])\n",
    "    return diet"
   ]
  },
  {
   "cell_type": "code",
   "execution_count": 14,
   "metadata": {},
   "outputs": [],
   "source": [
    "def Calories():\n",
    "    cals_in =  [2500+ rng.normal(75, 250) if x == 'Male' else 2000+ rng.normal(75, 250) for x in df['Sex']]\n",
    "    return cals_in"
   ]
  },
  {
   "cell_type": "code",
   "execution_count": 15,
   "metadata": {},
   "outputs": [],
   "source": [
    "def Sleep():\n",
    "    hours_slept = (rng.normal(463, 72.6)/60)\n",
    "    return hours_slept"
   ]
  },
  {
   "cell_type": "code",
   "execution_count": 16,
   "metadata": {},
   "outputs": [],
   "source": [
    "def water():\n",
    "    water_intake = rng.normal(1.5, 0.45)\n",
    "    return water_intake"
   ]
  },
  {
   "cell_type": "code",
   "execution_count": 67,
   "metadata": {},
   "outputs": [],
   "source": [
    "for i in range(100):\n",
    "    df.loc[i] = [age(), sexes(), 'NA', 'NA', drinker(), 'NA', smoker(), 'NA',  Exercise(), Diet(), 'NA', Sleep(), water()]"
   ]
  },
  {
   "cell_type": "code",
   "execution_count": 68,
   "metadata": {},
   "outputs": [],
   "source": [
    "df['Height'], df['Alcohol_units_wk'], df['Cigs/day'], df['Calories_day'] = Heights(), units_drank(), cig_smoked(), Calories()"
   ]
  },
  {
   "cell_type": "code",
   "execution_count": 69,
   "metadata": {},
   "outputs": [
    {
     "data": {
      "text/html": [
       "<div>\n",
       "<style scoped>\n",
       "    .dataframe tbody tr th:only-of-type {\n",
       "        vertical-align: middle;\n",
       "    }\n",
       "\n",
       "    .dataframe tbody tr th {\n",
       "        vertical-align: top;\n",
       "    }\n",
       "\n",
       "    .dataframe thead th {\n",
       "        text-align: right;\n",
       "    }\n",
       "</style>\n",
       "<table border=\"1\" class=\"dataframe\">\n",
       "  <thead>\n",
       "    <tr style=\"text-align: right;\">\n",
       "      <th></th>\n",
       "      <th>Age</th>\n",
       "      <th>Sex</th>\n",
       "      <th>Height</th>\n",
       "      <th>Weight</th>\n",
       "      <th>Drinker</th>\n",
       "      <th>Alcohol_units_wk</th>\n",
       "      <th>Smoker</th>\n",
       "      <th>Cigs/day</th>\n",
       "      <th>Exercise_wk</th>\n",
       "      <th>Diet</th>\n",
       "      <th>Calories_day</th>\n",
       "      <th>Hours_Sleep</th>\n",
       "      <th>Water_l_day</th>\n",
       "    </tr>\n",
       "  </thead>\n",
       "  <tbody>\n",
       "    <tr>\n",
       "      <td>0</td>\n",
       "      <td>35</td>\n",
       "      <td>Male</td>\n",
       "      <td>174.724150</td>\n",
       "      <td>NA</td>\n",
       "      <td>Drinker</td>\n",
       "      <td>0.244720</td>\n",
       "      <td>non_smoker</td>\n",
       "      <td>0.0</td>\n",
       "      <td>2.27894</td>\n",
       "      <td>Vegetarian</td>\n",
       "      <td>2530.910804</td>\n",
       "      <td>7.601283</td>\n",
       "      <td>1.477878</td>\n",
       "    </tr>\n",
       "    <tr>\n",
       "      <td>1</td>\n",
       "      <td>40</td>\n",
       "      <td>Female</td>\n",
       "      <td>163.484904</td>\n",
       "      <td>NA</td>\n",
       "      <td>Drinker</td>\n",
       "      <td>0.142151</td>\n",
       "      <td>non_smoker</td>\n",
       "      <td>0.0</td>\n",
       "      <td>1.39876</td>\n",
       "      <td>Sugary</td>\n",
       "      <td>1978.216693</td>\n",
       "      <td>9.040532</td>\n",
       "      <td>1.247048</td>\n",
       "    </tr>\n",
       "    <tr>\n",
       "      <td>2</td>\n",
       "      <td>58</td>\n",
       "      <td>Male</td>\n",
       "      <td>189.584001</td>\n",
       "      <td>NA</td>\n",
       "      <td>Drinker</td>\n",
       "      <td>0.266182</td>\n",
       "      <td>non_smoker</td>\n",
       "      <td>0.0</td>\n",
       "      <td>1.80947</td>\n",
       "      <td>Fatty</td>\n",
       "      <td>2718.817989</td>\n",
       "      <td>5.589165</td>\n",
       "      <td>1.146853</td>\n",
       "    </tr>\n",
       "    <tr>\n",
       "      <td>3</td>\n",
       "      <td>22</td>\n",
       "      <td>Male</td>\n",
       "      <td>172.378731</td>\n",
       "      <td>NA</td>\n",
       "      <td>Drinker</td>\n",
       "      <td>0.301418</td>\n",
       "      <td>non_smoker</td>\n",
       "      <td>0.0</td>\n",
       "      <td>1.71037</td>\n",
       "      <td>Sugary</td>\n",
       "      <td>2384.445887</td>\n",
       "      <td>7.716708</td>\n",
       "      <td>1.198182</td>\n",
       "    </tr>\n",
       "    <tr>\n",
       "      <td>4</td>\n",
       "      <td>37</td>\n",
       "      <td>Female</td>\n",
       "      <td>156.632401</td>\n",
       "      <td>NA</td>\n",
       "      <td>Drinker</td>\n",
       "      <td>0.276756</td>\n",
       "      <td>non_smoker</td>\n",
       "      <td>0.0</td>\n",
       "      <td>1.33105</td>\n",
       "      <td>Vegetarian</td>\n",
       "      <td>2246.289875</td>\n",
       "      <td>7.791287</td>\n",
       "      <td>2.000231</td>\n",
       "    </tr>\n",
       "    <tr>\n",
       "      <td>...</td>\n",
       "      <td>...</td>\n",
       "      <td>...</td>\n",
       "      <td>...</td>\n",
       "      <td>...</td>\n",
       "      <td>...</td>\n",
       "      <td>...</td>\n",
       "      <td>...</td>\n",
       "      <td>...</td>\n",
       "      <td>...</td>\n",
       "      <td>...</td>\n",
       "      <td>...</td>\n",
       "      <td>...</td>\n",
       "      <td>...</td>\n",
       "    </tr>\n",
       "    <tr>\n",
       "      <td>95</td>\n",
       "      <td>46</td>\n",
       "      <td>Male</td>\n",
       "      <td>177.323675</td>\n",
       "      <td>NA</td>\n",
       "      <td>Drinker</td>\n",
       "      <td>0.129260</td>\n",
       "      <td>non_smoker</td>\n",
       "      <td>0.0</td>\n",
       "      <td>0.867526</td>\n",
       "      <td>Sugary</td>\n",
       "      <td>2174.589272</td>\n",
       "      <td>8.522176</td>\n",
       "      <td>2.162607</td>\n",
       "    </tr>\n",
       "    <tr>\n",
       "      <td>96</td>\n",
       "      <td>25</td>\n",
       "      <td>Male</td>\n",
       "      <td>179.255219</td>\n",
       "      <td>NA</td>\n",
       "      <td>Drinker</td>\n",
       "      <td>0.182101</td>\n",
       "      <td>non_smoker</td>\n",
       "      <td>0.0</td>\n",
       "      <td>0.706228</td>\n",
       "      <td>Balanced</td>\n",
       "      <td>2999.644997</td>\n",
       "      <td>7.927205</td>\n",
       "      <td>1.215064</td>\n",
       "    </tr>\n",
       "    <tr>\n",
       "      <td>97</td>\n",
       "      <td>19</td>\n",
       "      <td>Male</td>\n",
       "      <td>185.369167</td>\n",
       "      <td>NA</td>\n",
       "      <td>Drinker</td>\n",
       "      <td>0.227262</td>\n",
       "      <td>non_smoker</td>\n",
       "      <td>0.0</td>\n",
       "      <td>1.20184</td>\n",
       "      <td>Balanced</td>\n",
       "      <td>2754.630288</td>\n",
       "      <td>8.604842</td>\n",
       "      <td>0.427425</td>\n",
       "    </tr>\n",
       "    <tr>\n",
       "      <td>98</td>\n",
       "      <td>22</td>\n",
       "      <td>Female</td>\n",
       "      <td>156.219769</td>\n",
       "      <td>NA</td>\n",
       "      <td>Drinker</td>\n",
       "      <td>0.276237</td>\n",
       "      <td>non_smoker</td>\n",
       "      <td>0.0</td>\n",
       "      <td>1.43596</td>\n",
       "      <td>Sugary</td>\n",
       "      <td>2006.468492</td>\n",
       "      <td>11.303319</td>\n",
       "      <td>2.121976</td>\n",
       "    </tr>\n",
       "    <tr>\n",
       "      <td>99</td>\n",
       "      <td>38</td>\n",
       "      <td>Female</td>\n",
       "      <td>173.926721</td>\n",
       "      <td>NA</td>\n",
       "      <td>Drinker</td>\n",
       "      <td>0.276768</td>\n",
       "      <td>non_smoker</td>\n",
       "      <td>0.0</td>\n",
       "      <td>2.33292</td>\n",
       "      <td>Sugary</td>\n",
       "      <td>2158.278025</td>\n",
       "      <td>7.663946</td>\n",
       "      <td>1.764265</td>\n",
       "    </tr>\n",
       "  </tbody>\n",
       "</table>\n",
       "<p>100 rows × 13 columns</p>\n",
       "</div>"
      ],
      "text/plain": [
       "    Age     Sex      Height Weight  Drinker  Alcohol_units_wk      Smoker  \\\n",
       "0    35    Male  174.724150     NA  Drinker          0.244720  non_smoker   \n",
       "1    40  Female  163.484904     NA  Drinker          0.142151  non_smoker   \n",
       "2    58    Male  189.584001     NA  Drinker          0.266182  non_smoker   \n",
       "3    22    Male  172.378731     NA  Drinker          0.301418  non_smoker   \n",
       "4    37  Female  156.632401     NA  Drinker          0.276756  non_smoker   \n",
       "..  ...     ...         ...    ...      ...               ...         ...   \n",
       "95   46    Male  177.323675     NA  Drinker          0.129260  non_smoker   \n",
       "96   25    Male  179.255219     NA  Drinker          0.182101  non_smoker   \n",
       "97   19    Male  185.369167     NA  Drinker          0.227262  non_smoker   \n",
       "98   22  Female  156.219769     NA  Drinker          0.276237  non_smoker   \n",
       "99   38  Female  173.926721     NA  Drinker          0.276768  non_smoker   \n",
       "\n",
       "    Cigs/day Exercise_wk        Diet  Calories_day  Hours_Sleep  Water_l_day  \n",
       "0        0.0     2.27894  Vegetarian   2530.910804     7.601283     1.477878  \n",
       "1        0.0     1.39876      Sugary   1978.216693     9.040532     1.247048  \n",
       "2        0.0     1.80947       Fatty   2718.817989     5.589165     1.146853  \n",
       "3        0.0     1.71037      Sugary   2384.445887     7.716708     1.198182  \n",
       "4        0.0     1.33105  Vegetarian   2246.289875     7.791287     2.000231  \n",
       "..       ...         ...         ...           ...          ...          ...  \n",
       "95       0.0    0.867526      Sugary   2174.589272     8.522176     2.162607  \n",
       "96       0.0    0.706228    Balanced   2999.644997     7.927205     1.215064  \n",
       "97       0.0     1.20184    Balanced   2754.630288     8.604842     0.427425  \n",
       "98       0.0     1.43596      Sugary   2006.468492    11.303319     2.121976  \n",
       "99       0.0     2.33292      Sugary   2158.278025     7.663946     1.764265  \n",
       "\n",
       "[100 rows x 13 columns]"
      ]
     },
     "execution_count": 69,
     "metadata": {},
     "output_type": "execute_result"
    }
   ],
   "source": [
    "df"
   ]
  },
  {
   "cell_type": "code",
   "execution_count": 71,
   "metadata": {},
   "outputs": [
    {
     "data": {
      "text/plain": [
       "206.83857217398304"
      ]
     },
     "execution_count": 71,
     "metadata": {},
     "output_type": "execute_result"
    }
   ],
   "source": [
    "sum(df['Cigs/day'])"
   ]
  },
  {
   "cell_type": "code",
   "execution_count": null,
   "metadata": {},
   "outputs": [],
   "source": []
  }
 ],
 "metadata": {
  "kernelspec": {
   "display_name": "Python 3",
   "language": "python",
   "name": "python3"
  },
  "language_info": {
   "codemirror_mode": {
    "name": "ipython",
    "version": 3
   },
   "file_extension": ".py",
   "mimetype": "text/x-python",
   "name": "python",
   "nbconvert_exporter": "python",
   "pygments_lexer": "ipython3",
   "version": "3.7.4"
  }
 },
 "nbformat": 4,
 "nbformat_minor": 2
}
