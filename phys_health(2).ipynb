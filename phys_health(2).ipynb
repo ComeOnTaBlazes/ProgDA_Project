{
 "cells": [
  {
   "cell_type": "code",
   "execution_count": 1,
   "metadata": {},
   "outputs": [],
   "source": [
    "import pandas as pd\n",
    "import numpy as np\n",
    "import seaborn as sns\n",
    "import matplotlib.pyplot as plt"
   ]
  },
  {
   "cell_type": "markdown",
   "metadata": {},
   "source": [
    "### Simulating a real world phenomena\n",
    "\n",
    "Chosen phenom - physical health of the individual, based off results from a pseudo-survey.\n",
    "\n",
    "In essence I hope to simulate the results of a survey asking $n$ number of people about their health and lifestyle and attributing a grade of their general health. From the created dataset we would hope to predict the overall health of the inividual form their own inputs to the survey."
   ]
  },
  {
   "cell_type": "markdown",
   "metadata": {},
   "source": [
    "Age\n",
    "\n",
    "Sex\n",
    "\n",
    "Height/Weight\n",
    "\n",
    "Drink(units/week)\n",
    "\n",
    "Smoker (cigarettes/day)\n",
    "\n",
    "Previous smoker( length of time somking)\n",
    "\n",
    "Hours of exercise(/week)\n",
    "\n",
    "Consistency of exercise (regular exercise)\n",
    "\n",
    "Diet( categorise)\n",
    "\n",
    "Calories eaten per day\n",
    "\n",
    "Average hours of sleep\n",
    "\n",
    "Water drank/ day\n",
    "\n",
    "Underlying health condition\n"
   ]
  },
  {
   "cell_type": "markdown",
   "metadata": {},
   "source": [
    "So our first item it tocreate a dateset with these criteria as column headers."
   ]
  },
  {
   "cell_type": "code",
   "execution_count": 203,
   "metadata": {},
   "outputs": [],
   "source": [
    "columns=['Age', 'Sex','Height', 'Weight', 'Drinker', 'Alcohol_units_wk','Smoker', 'Cigs/day', 'Time_Smoked_Prev' 'Exercise_wk', 'Exercise_Consistency', 'Diet',\n",
    "                           'Calories_day','Hours_Sleep', 'Water_l_day', 'Stress_lvls', 'Underlying_health']"
   ]
  },
  {
   "cell_type": "code",
   "execution_count": null,
   "metadata": {},
   "outputs": [],
   "source": []
  },
  {
   "cell_type": "code",
   "execution_count": null,
   "metadata": {},
   "outputs": [],
   "source": []
  },
  {
   "cell_type": "code",
   "execution_count": 3,
   "metadata": {},
   "outputs": [],
   "source": [
    "df = pd.DataFrame(columns = columns)"
   ]
  },
  {
   "cell_type": "code",
   "execution_count": 4,
   "metadata": {
    "scrolled": false
   },
   "outputs": [
    {
     "data": {
      "text/html": [
       "<div>\n",
       "<style scoped>\n",
       "    .dataframe tbody tr th:only-of-type {\n",
       "        vertical-align: middle;\n",
       "    }\n",
       "\n",
       "    .dataframe tbody tr th {\n",
       "        vertical-align: top;\n",
       "    }\n",
       "\n",
       "    .dataframe thead th {\n",
       "        text-align: right;\n",
       "    }\n",
       "</style>\n",
       "<table border=\"1\" class=\"dataframe\">\n",
       "  <thead>\n",
       "    <tr style=\"text-align: right;\">\n",
       "      <th></th>\n",
       "      <th>Age</th>\n",
       "      <th>Sex</th>\n",
       "      <th>Height</th>\n",
       "      <th>Weight</th>\n",
       "      <th>Alcohol_units_wk</th>\n",
       "      <th>Smoker</th>\n",
       "      <th>Cigs/day</th>\n",
       "      <th>Time_Smoked_PrevExercise_wk</th>\n",
       "      <th>Exercise_Consistency</th>\n",
       "      <th>Diet</th>\n",
       "      <th>Calories_day</th>\n",
       "      <th>Hours_Sleep</th>\n",
       "      <th>Water_l_day</th>\n",
       "      <th>Stress_lvls</th>\n",
       "      <th>Underlying_health</th>\n",
       "    </tr>\n",
       "  </thead>\n",
       "  <tbody>\n",
       "  </tbody>\n",
       "</table>\n",
       "</div>"
      ],
      "text/plain": [
       "Empty DataFrame\n",
       "Columns: [Age, Sex, Height, Weight, Alcohol_units_wk, Smoker, Cigs/day, Time_Smoked_PrevExercise_wk, Exercise_Consistency, Diet, Calories_day, Hours_Sleep, Water_l_day, Stress_lvls, Underlying_health]\n",
       "Index: []"
      ]
     },
     "execution_count": 4,
     "metadata": {},
     "output_type": "execute_result"
    }
   ],
   "source": [
    "df"
   ]
  },
  {
   "cell_type": "code",
   "execution_count": 5,
   "metadata": {},
   "outputs": [],
   "source": [
    "rng = np.random.default_rng()"
   ]
  },
  {
   "cell_type": "code",
   "execution_count": 9,
   "metadata": {},
   "outputs": [],
   "source": [
    "age = rng.integers(18, 55, size = 100)\n",
    "age2  = rng.choice((age),100)"
   ]
  },
  {
   "cell_type": "code",
   "execution_count": 12,
   "metadata": {},
   "outputs": [
    {
     "data": {
      "text/plain": [
       "array([32, 18, 31, 51, 54, 37, 37, 34, 19, 21, 38, 31, 26, 48, 37, 39, 37,\n",
       "       18, 42, 54, 19, 32, 42, 44, 53, 49, 35, 44, 35, 47, 46, 26, 40, 33,\n",
       "       24, 20, 53, 30, 34, 38, 25, 50, 31, 43, 42, 21, 23, 32, 23, 32, 47,\n",
       "       23, 25, 34, 54, 33, 26, 37, 20, 42, 47, 23, 35, 31, 48, 49, 52, 43,\n",
       "       33, 28, 45, 25, 43, 51, 50, 39, 45, 54, 45, 20, 52, 33, 22, 28, 33,\n",
       "       48, 21, 36, 51, 45, 28, 37, 35, 43, 53, 38, 26, 43, 28, 23],\n",
       "      dtype=int64)"
      ]
     },
     "execution_count": 12,
     "metadata": {},
     "output_type": "execute_result"
    }
   ],
   "source": [
    "age"
   ]
  },
  {
   "cell_type": "code",
   "execution_count": 156,
   "metadata": {},
   "outputs": [],
   "source": [
    "def age():\n",
    "    return rng.integers(18, 60)    "
   ]
  },
  {
   "cell_type": "code",
   "execution_count": 157,
   "metadata": {},
   "outputs": [
    {
     "data": {
      "text/plain": [
       "52"
      ]
     },
     "execution_count": 157,
     "metadata": {},
     "output_type": "execute_result"
    }
   ],
   "source": [
    "age()"
   ]
  },
  {
   "cell_type": "code",
   "execution_count": null,
   "metadata": {},
   "outputs": [],
   "source": []
  },
  {
   "cell_type": "code",
   "execution_count": 10,
   "metadata": {},
   "outputs": [
    {
     "data": {
      "text/plain": [
       "array([37, 43, 33, 54, 37, 25, 53, 26, 37, 52, 47, 21, 26, 21, 31, 42, 21,\n",
       "       42, 37, 28, 43, 37, 52, 43, 37, 30, 42, 54, 39, 36, 30, 20, 37, 20,\n",
       "       48, 50, 42, 34, 53, 37, 44, 31, 32, 45, 32, 26, 37, 35, 25, 30, 35,\n",
       "       54, 45, 20, 32, 35, 45, 53, 53, 54, 47, 34, 37, 19, 33, 51, 25, 45,\n",
       "       37, 20, 32, 26, 20, 51, 38, 53, 21, 31, 48, 52, 53, 33, 53, 47, 51,\n",
       "       33, 20, 47, 43, 52, 53, 18, 53, 48, 26, 53, 42, 50, 32, 23],\n",
       "      dtype=int64)"
      ]
     },
     "execution_count": 10,
     "metadata": {},
     "output_type": "execute_result"
    }
   ],
   "source": [
    "age2"
   ]
  },
  {
   "cell_type": "code",
   "execution_count": null,
   "metadata": {},
   "outputs": [],
   "source": []
  },
  {
   "cell_type": "code",
   "execution_count": null,
   "metadata": {},
   "outputs": [],
   "source": []
  },
  {
   "cell_type": "code",
   "execution_count": 14,
   "metadata": {},
   "outputs": [],
   "source": [
    "sexes = ['Male', 'Female']\n",
    "sex  = rng.choice((sexes),100)"
   ]
  },
  {
   "cell_type": "code",
   "execution_count": 115,
   "metadata": {},
   "outputs": [],
   "source": [
    "def sexes():\n",
    "    sexes = ['Male', 'Female']\n",
    "    sex  = rng.choice((sexes))\n",
    "    return sex"
   ]
  },
  {
   "cell_type": "code",
   "execution_count": 120,
   "metadata": {},
   "outputs": [
    {
     "data": {
      "text/plain": [
       "'Male'"
      ]
     },
     "execution_count": 120,
     "metadata": {},
     "output_type": "execute_result"
    }
   ],
   "source": [
    "sexes()"
   ]
  },
  {
   "cell_type": "code",
   "execution_count": 19,
   "metadata": {},
   "outputs": [
    {
     "data": {
      "text/plain": [
       "array([168.19984627, 168.34303692, 167.44743386, 163.23487937,\n",
       "       164.45153955, 162.54580692, 164.94760097, 157.73643257,\n",
       "       154.67646746, 160.92364328, 168.26227415, 152.71468289,\n",
       "       164.98504291, 171.17748172, 172.50481376, 161.45212426,\n",
       "       167.92113569, 166.44915643, 159.51154875, 172.23256371,\n",
       "       162.46625513, 169.05856329, 158.17368888, 147.64904878,\n",
       "       161.89360177, 170.56093527, 160.704677  , 162.66046272,\n",
       "       165.35910398, 180.80856471, 167.89074573, 164.07488173,\n",
       "       153.16832982, 164.26625204, 159.4579111 , 174.36520815,\n",
       "       151.96964574, 155.23523399, 177.38367286, 172.77028448,\n",
       "       167.25532678, 172.00323758, 163.13998578, 170.5967611 ,\n",
       "       152.35333523, 181.67811506, 163.49811403, 158.95800108,\n",
       "       160.90760384, 168.88765276, 157.76407525, 154.69780358,\n",
       "       161.68389243, 172.77956764, 171.74512576, 169.14411404,\n",
       "       166.96731984, 164.43341315, 153.41661552, 159.29756337,\n",
       "       169.74084955, 152.79626732, 160.91145284, 162.28216443,\n",
       "       166.43556158, 159.95186842, 160.160634  , 171.72842337,\n",
       "       183.7303982 , 159.6889338 , 165.83946383, 171.36391398,\n",
       "       156.44207906, 153.7725328 , 162.64509269, 170.93580619,\n",
       "       162.71613729, 175.04915392, 161.28572939, 161.26488931,\n",
       "       167.49985654, 162.85720065, 161.41986266, 170.68691475,\n",
       "       170.37259276, 169.00406902, 163.74742949, 174.56284459,\n",
       "       170.02038179, 170.23728652, 180.71724689, 157.69723332,\n",
       "       164.18701043, 167.05769593, 178.19896999, 178.21969941,\n",
       "       169.24305691, 163.75326592, 158.87392942, 169.13115527])"
      ]
     },
     "execution_count": 19,
     "metadata": {},
     "output_type": "execute_result"
    }
   ],
   "source": [
    "height_female = rng.normal(165, 7, 100)\n",
    "height_female"
   ]
  },
  {
   "cell_type": "code",
   "execution_count": 160,
   "metadata": {},
   "outputs": [],
   "source": [
    "def heights(i):\n",
    "    if df['Sex'][i] == 'Female':\n",
    "        height_female = rng.normal(165, 7)\n",
    "        df['Height'][i] = height_female\n",
    "    if df['Sex'][i] == 'Male':\n",
    "        height_male = rng.normal(179, 8)\n",
    "        df['Height'][i] = height_male"
   ]
  },
  {
   "cell_type": "code",
   "execution_count": 168,
   "metadata": {},
   "outputs": [],
   "source": [
    "for i in range(100):\n",
    "0    heights(i)"
   ]
  },
  {
   "cell_type": "code",
   "execution_count": 169,
   "metadata": {},
   "outputs": [
    {
     "data": {
      "text/html": [
       "<div>\n",
       "<style scoped>\n",
       "    .dataframe tbody tr th:only-of-type {\n",
       "        vertical-align: middle;\n",
       "    }\n",
       "\n",
       "    .dataframe tbody tr th {\n",
       "        vertical-align: top;\n",
       "    }\n",
       "\n",
       "    .dataframe thead th {\n",
       "        text-align: right;\n",
       "    }\n",
       "</style>\n",
       "<table border=\"1\" class=\"dataframe\">\n",
       "  <thead>\n",
       "    <tr style=\"text-align: right;\">\n",
       "      <th></th>\n",
       "      <th>Age</th>\n",
       "      <th>Sex</th>\n",
       "      <th>Height</th>\n",
       "      <th>Weight</th>\n",
       "      <th>Alcohol_units_wk</th>\n",
       "      <th>Smoker</th>\n",
       "      <th>Cigs/day</th>\n",
       "      <th>Time_Smoked_PrevExercise_wk</th>\n",
       "      <th>Exercise_Consistency</th>\n",
       "      <th>Diet</th>\n",
       "      <th>Calories_day</th>\n",
       "      <th>Hours_Sleep</th>\n",
       "      <th>Water_l_day</th>\n",
       "      <th>Stress_lvls</th>\n",
       "      <th>Underlying_health</th>\n",
       "    </tr>\n",
       "  </thead>\n",
       "  <tbody>\n",
       "    <tr>\n",
       "      <td>0</td>\n",
       "      <td>NaN</td>\n",
       "      <td>Male</td>\n",
       "      <td>182.511263</td>\n",
       "      <td>NaN</td>\n",
       "      <td>NaN</td>\n",
       "      <td>NaN</td>\n",
       "      <td>NaN</td>\n",
       "      <td>NaN</td>\n",
       "      <td>NaN</td>\n",
       "      <td>NaN</td>\n",
       "      <td>2249</td>\n",
       "      <td>NaN</td>\n",
       "      <td>2.186909</td>\n",
       "      <td>NaN</td>\n",
       "      <td>NaN</td>\n",
       "    </tr>\n",
       "    <tr>\n",
       "      <td>1</td>\n",
       "      <td>NaN</td>\n",
       "      <td>Male</td>\n",
       "      <td>161.462976</td>\n",
       "      <td>NaN</td>\n",
       "      <td>NaN</td>\n",
       "      <td>NaN</td>\n",
       "      <td>NaN</td>\n",
       "      <td>NaN</td>\n",
       "      <td>NaN</td>\n",
       "      <td>NaN</td>\n",
       "      <td>0</td>\n",
       "      <td>NaN</td>\n",
       "      <td>0.824347</td>\n",
       "      <td>NaN</td>\n",
       "      <td>NaN</td>\n",
       "    </tr>\n",
       "    <tr>\n",
       "      <td>2</td>\n",
       "      <td>NaN</td>\n",
       "      <td>Female</td>\n",
       "      <td>155.475587</td>\n",
       "      <td>NaN</td>\n",
       "      <td>NaN</td>\n",
       "      <td>NaN</td>\n",
       "      <td>NaN</td>\n",
       "      <td>NaN</td>\n",
       "      <td>NaN</td>\n",
       "      <td>NaN</td>\n",
       "      <td>0</td>\n",
       "      <td>NaN</td>\n",
       "      <td>1.037186</td>\n",
       "      <td>NaN</td>\n",
       "      <td>NaN</td>\n",
       "    </tr>\n",
       "    <tr>\n",
       "      <td>3</td>\n",
       "      <td>NaN</td>\n",
       "      <td>Female</td>\n",
       "      <td>155.475587</td>\n",
       "      <td>NaN</td>\n",
       "      <td>NaN</td>\n",
       "      <td>NaN</td>\n",
       "      <td>NaN</td>\n",
       "      <td>NaN</td>\n",
       "      <td>NaN</td>\n",
       "      <td>NaN</td>\n",
       "      <td>0</td>\n",
       "      <td>NaN</td>\n",
       "      <td>1.664711</td>\n",
       "      <td>NaN</td>\n",
       "      <td>NaN</td>\n",
       "    </tr>\n",
       "    <tr>\n",
       "      <td>4</td>\n",
       "      <td>NaN</td>\n",
       "      <td>Female</td>\n",
       "      <td>155.475587</td>\n",
       "      <td>NaN</td>\n",
       "      <td>NaN</td>\n",
       "      <td>NaN</td>\n",
       "      <td>NaN</td>\n",
       "      <td>NaN</td>\n",
       "      <td>NaN</td>\n",
       "      <td>NaN</td>\n",
       "      <td>0</td>\n",
       "      <td>NaN</td>\n",
       "      <td>1.533840</td>\n",
       "      <td>NaN</td>\n",
       "      <td>NaN</td>\n",
       "    </tr>\n",
       "    <tr>\n",
       "      <td>...</td>\n",
       "      <td>...</td>\n",
       "      <td>...</td>\n",
       "      <td>...</td>\n",
       "      <td>...</td>\n",
       "      <td>...</td>\n",
       "      <td>...</td>\n",
       "      <td>...</td>\n",
       "      <td>...</td>\n",
       "      <td>...</td>\n",
       "      <td>...</td>\n",
       "      <td>...</td>\n",
       "      <td>...</td>\n",
       "      <td>...</td>\n",
       "      <td>...</td>\n",
       "      <td>...</td>\n",
       "    </tr>\n",
       "    <tr>\n",
       "      <td>95</td>\n",
       "      <td>NaN</td>\n",
       "      <td>Female</td>\n",
       "      <td>155.475587</td>\n",
       "      <td>NaN</td>\n",
       "      <td>NaN</td>\n",
       "      <td>NaN</td>\n",
       "      <td>NaN</td>\n",
       "      <td>NaN</td>\n",
       "      <td>NaN</td>\n",
       "      <td>NaN</td>\n",
       "      <td>0</td>\n",
       "      <td>NaN</td>\n",
       "      <td>0.626702</td>\n",
       "      <td>NaN</td>\n",
       "      <td>NaN</td>\n",
       "    </tr>\n",
       "    <tr>\n",
       "      <td>96</td>\n",
       "      <td>NaN</td>\n",
       "      <td>Female</td>\n",
       "      <td>155.475587</td>\n",
       "      <td>NaN</td>\n",
       "      <td>NaN</td>\n",
       "      <td>NaN</td>\n",
       "      <td>NaN</td>\n",
       "      <td>NaN</td>\n",
       "      <td>NaN</td>\n",
       "      <td>NaN</td>\n",
       "      <td>0</td>\n",
       "      <td>NaN</td>\n",
       "      <td>1.188805</td>\n",
       "      <td>NaN</td>\n",
       "      <td>NaN</td>\n",
       "    </tr>\n",
       "    <tr>\n",
       "      <td>97</td>\n",
       "      <td>NaN</td>\n",
       "      <td>Female</td>\n",
       "      <td>155.475587</td>\n",
       "      <td>NaN</td>\n",
       "      <td>NaN</td>\n",
       "      <td>NaN</td>\n",
       "      <td>NaN</td>\n",
       "      <td>NaN</td>\n",
       "      <td>NaN</td>\n",
       "      <td>NaN</td>\n",
       "      <td>0</td>\n",
       "      <td>NaN</td>\n",
       "      <td>1.789016</td>\n",
       "      <td>NaN</td>\n",
       "      <td>NaN</td>\n",
       "    </tr>\n",
       "    <tr>\n",
       "      <td>98</td>\n",
       "      <td>NaN</td>\n",
       "      <td>Male</td>\n",
       "      <td>161.462976</td>\n",
       "      <td>NaN</td>\n",
       "      <td>NaN</td>\n",
       "      <td>NaN</td>\n",
       "      <td>NaN</td>\n",
       "      <td>NaN</td>\n",
       "      <td>NaN</td>\n",
       "      <td>NaN</td>\n",
       "      <td>0</td>\n",
       "      <td>NaN</td>\n",
       "      <td>1.325402</td>\n",
       "      <td>NaN</td>\n",
       "      <td>NaN</td>\n",
       "    </tr>\n",
       "    <tr>\n",
       "      <td>99</td>\n",
       "      <td>NaN</td>\n",
       "      <td>Male</td>\n",
       "      <td>161.462976</td>\n",
       "      <td>NaN</td>\n",
       "      <td>NaN</td>\n",
       "      <td>NaN</td>\n",
       "      <td>NaN</td>\n",
       "      <td>NaN</td>\n",
       "      <td>NaN</td>\n",
       "      <td>NaN</td>\n",
       "      <td>0</td>\n",
       "      <td>NaN</td>\n",
       "      <td>1.994363</td>\n",
       "      <td>NaN</td>\n",
       "      <td>NaN</td>\n",
       "    </tr>\n",
       "  </tbody>\n",
       "</table>\n",
       "<p>100 rows × 15 columns</p>\n",
       "</div>"
      ],
      "text/plain": [
       "    Age     Sex      Height Weight Alcohol_units_wk Smoker Cigs/day  \\\n",
       "0   NaN    Male  182.511263    NaN              NaN    NaN      NaN   \n",
       "1   NaN    Male  161.462976    NaN              NaN    NaN      NaN   \n",
       "2   NaN  Female  155.475587    NaN              NaN    NaN      NaN   \n",
       "3   NaN  Female  155.475587    NaN              NaN    NaN      NaN   \n",
       "4   NaN  Female  155.475587    NaN              NaN    NaN      NaN   \n",
       "..  ...     ...         ...    ...              ...    ...      ...   \n",
       "95  NaN  Female  155.475587    NaN              NaN    NaN      NaN   \n",
       "96  NaN  Female  155.475587    NaN              NaN    NaN      NaN   \n",
       "97  NaN  Female  155.475587    NaN              NaN    NaN      NaN   \n",
       "98  NaN    Male  161.462976    NaN              NaN    NaN      NaN   \n",
       "99  NaN    Male  161.462976    NaN              NaN    NaN      NaN   \n",
       "\n",
       "   Time_Smoked_PrevExercise_wk Exercise_Consistency Diet  Calories_day  \\\n",
       "0                          NaN                  NaN  NaN          2249   \n",
       "1                          NaN                  NaN  NaN             0   \n",
       "2                          NaN                  NaN  NaN             0   \n",
       "3                          NaN                  NaN  NaN             0   \n",
       "4                          NaN                  NaN  NaN             0   \n",
       "..                         ...                  ...  ...           ...   \n",
       "95                         NaN                  NaN  NaN             0   \n",
       "96                         NaN                  NaN  NaN             0   \n",
       "97                         NaN                  NaN  NaN             0   \n",
       "98                         NaN                  NaN  NaN             0   \n",
       "99                         NaN                  NaN  NaN             0   \n",
       "\n",
       "   Hours_Sleep  Water_l_day Stress_lvls Underlying_health  \n",
       "0          NaN     2.186909         NaN               NaN  \n",
       "1          NaN     0.824347         NaN               NaN  \n",
       "2          NaN     1.037186         NaN               NaN  \n",
       "3          NaN     1.664711         NaN               NaN  \n",
       "4          NaN     1.533840         NaN               NaN  \n",
       "..         ...          ...         ...               ...  \n",
       "95         NaN     0.626702         NaN               NaN  \n",
       "96         NaN     1.188805         NaN               NaN  \n",
       "97         NaN     1.789016         NaN               NaN  \n",
       "98         NaN     1.325402         NaN               NaN  \n",
       "99         NaN     1.994363         NaN               NaN  \n",
       "\n",
       "[100 rows x 15 columns]"
      ]
     },
     "execution_count": 169,
     "metadata": {},
     "output_type": "execute_result"
    }
   ],
   "source": [
    "df"
   ]
  },
  {
   "cell_type": "code",
   "execution_count": 261,
   "metadata": {
    "scrolled": true
   },
   "outputs": [
    {
     "ename": "ValueError",
     "evalue": "operands could not be broadcast together with shapes (100,) (44,) (56,) ",
     "output_type": "error",
     "traceback": [
      "\u001b[1;31m---------------------------------------------------------------------------\u001b[0m",
      "\u001b[1;31mValueError\u001b[0m                                Traceback (most recent call last)",
      "\u001b[1;32m<ipython-input-261-4dad97201455>\u001b[0m in \u001b[0;36m<module>\u001b[1;34m\u001b[0m\n\u001b[1;32m----> 1\u001b[1;33m \u001b[0mdf\u001b[0m\u001b[1;33m[\u001b[0m\u001b[1;34m'Height'\u001b[0m\u001b[1;33m]\u001b[0m \u001b[1;33m=\u001b[0m \u001b[0mnp\u001b[0m\u001b[1;33m.\u001b[0m\u001b[0mwhere\u001b[0m\u001b[1;33m(\u001b[0m\u001b[0mdf\u001b[0m\u001b[1;33m[\u001b[0m\u001b[1;34m'Sex'\u001b[0m\u001b[1;33m]\u001b[0m\u001b[1;33m==\u001b[0m \u001b[1;34m'Male'\u001b[0m\u001b[1;33m,\u001b[0m \u001b[0mrng\u001b[0m\u001b[1;33m.\u001b[0m\u001b[0mnormal\u001b[0m\u001b[1;33m(\u001b[0m\u001b[1;36m179\u001b[0m\u001b[1;33m,\u001b[0m \u001b[1;36m8\u001b[0m\u001b[1;33m,\u001b[0m \u001b[0msize\u001b[0m \u001b[1;33m=\u001b[0m \u001b[0msum\u001b[0m\u001b[1;33m(\u001b[0m\u001b[0mdf\u001b[0m\u001b[1;33m[\u001b[0m\u001b[1;34m'Sex'\u001b[0m\u001b[1;33m]\u001b[0m\u001b[1;33m==\u001b[0m \u001b[1;34m'Male'\u001b[0m\u001b[1;33m)\u001b[0m\u001b[1;33m)\u001b[0m\u001b[1;33m,\u001b[0m \u001b[0mrng\u001b[0m\u001b[1;33m.\u001b[0m\u001b[0mnormal\u001b[0m\u001b[1;33m(\u001b[0m\u001b[1;36m165\u001b[0m\u001b[1;33m,\u001b[0m \u001b[1;36m7\u001b[0m\u001b[1;33m,\u001b[0m \u001b[0msize\u001b[0m \u001b[1;33m=\u001b[0m \u001b[0msum\u001b[0m\u001b[1;33m(\u001b[0m\u001b[0mdf\u001b[0m\u001b[1;33m[\u001b[0m\u001b[1;34m'Sex'\u001b[0m\u001b[1;33m]\u001b[0m\u001b[1;33m==\u001b[0m \u001b[1;34m'Female'\u001b[0m\u001b[1;33m)\u001b[0m\u001b[1;33m)\u001b[0m\u001b[1;33m)\u001b[0m\u001b[1;33m\u001b[0m\u001b[1;33m\u001b[0m\u001b[0m\n\u001b[0m",
      "\u001b[1;32m<__array_function__ internals>\u001b[0m in \u001b[0;36mwhere\u001b[1;34m(*args, **kwargs)\u001b[0m\n",
      "\u001b[1;31mValueError\u001b[0m: operands could not be broadcast together with shapes (100,) (44,) (56,) "
     ]
    }
   ],
   "source": [
    "df['Height'] = np.where(df['Sex']== 'Male', rng.normal(179, 8, size = sum(df['Sex']== 'Male')), rng.normal(165, 7, size = sum(df['Sex']== 'Female')))"
   ]
  },
  {
   "cell_type": "code",
   "execution_count": 264,
   "metadata": {},
   "outputs": [],
   "source": [
    "df['Height'] = np.where(df['Sex']== 'Male', rng.normal(179, 8), rng.normal(165, 7))"
   ]
  },
  {
   "cell_type": "code",
   "execution_count": 278,
   "metadata": {},
   "outputs": [],
   "source": [
    "df['Height2'] = [rng.normal(179, 8) if x == 'Male' else rng.normal(165, 7) for x in df['Sex']]"
   ]
  },
  {
   "cell_type": "code",
   "execution_count": 279,
   "metadata": {
    "scrolled": true
   },
   "outputs": [
    {
     "data": {
      "text/plain": [
       "0     190.546329\n",
       "1     179.750980\n",
       "2     158.257570\n",
       "3     166.622795\n",
       "4     170.317099\n",
       "         ...    \n",
       "95    160.103413\n",
       "96    155.273652\n",
       "97    174.859319\n",
       "98    175.684424\n",
       "99    174.732721\n",
       "Name: Height2, Length: 100, dtype: float64"
      ]
     },
     "execution_count": 279,
     "metadata": {},
     "output_type": "execute_result"
    }
   ],
   "source": [
    "df['Height2']"
   ]
  },
  {
   "cell_type": "code",
   "execution_count": 280,
   "metadata": {
    "scrolled": true
   },
   "outputs": [
    {
     "data": {
      "text/plain": [
       "0     168.941145\n",
       "1     178.225199\n",
       "2     160.479523\n",
       "3     165.903232\n",
       "4     155.679661\n",
       "         ...    \n",
       "95    164.364925\n",
       "96    174.160846\n",
       "97    166.722577\n",
       "98    161.930362\n",
       "99    158.182569\n",
       "Name: Height, Length: 100, dtype: float64"
      ]
     },
     "execution_count": 280,
     "metadata": {},
     "output_type": "execute_result"
    }
   ],
   "source": [
    "df['Height']"
   ]
  },
  {
   "cell_type": "markdown",
   "metadata": {},
   "source": [
    "List comprehension for below heights: https://stackoverflow.com/questions/19913659/pandas-conditional-creation-of-a-series-dataframe-column\n",
    "    "
   ]
  },
  {
   "cell_type": "code",
   "execution_count": 296,
   "metadata": {
    "scrolled": true
   },
   "outputs": [],
   "source": [
    "def Heights():\n",
    "    height = [rng.normal(179, 8) if x == 'Male' else rng.normal(165, 7) for x in df['Sex']]\n",
    "    return height"
   ]
  },
  {
   "cell_type": "code",
   "execution_count": 295,
   "metadata": {},
   "outputs": [
    {
     "ename": "ValueError",
     "evalue": "The truth value of a Series is ambiguous. Use a.empty, a.bool(), a.item(), a.any() or a.all().",
     "output_type": "error",
     "traceback": [
      "\u001b[1;31m---------------------------------------------------------------------------\u001b[0m",
      "\u001b[1;31mValueError\u001b[0m                                Traceback (most recent call last)",
      "\u001b[1;32m<ipython-input-295-af840cc7e0cd>\u001b[0m in \u001b[0;36m<module>\u001b[1;34m\u001b[0m\n\u001b[1;32m----> 1\u001b[1;33m \u001b[1;33m[\u001b[0m\u001b[0mrng\u001b[0m\u001b[1;33m.\u001b[0m\u001b[0mnormal\u001b[0m\u001b[1;33m(\u001b[0m\u001b[1;36m179\u001b[0m\u001b[1;33m,\u001b[0m \u001b[1;36m8\u001b[0m\u001b[1;33m)\u001b[0m \u001b[1;32mif\u001b[0m \u001b[0mdf\u001b[0m\u001b[1;33m[\u001b[0m\u001b[1;34m'Sex'\u001b[0m\u001b[1;33m]\u001b[0m \u001b[1;33m==\u001b[0m \u001b[1;34m'Male'\u001b[0m \u001b[1;32melse\u001b[0m \u001b[0mrng\u001b[0m\u001b[1;33m.\u001b[0m\u001b[0mnormal\u001b[0m\u001b[1;33m(\u001b[0m\u001b[1;36m165\u001b[0m\u001b[1;33m,\u001b[0m \u001b[1;36m7\u001b[0m\u001b[1;33m)\u001b[0m \u001b[1;32mfor\u001b[0m \u001b[0mdf\u001b[0m\u001b[1;33m[\u001b[0m\u001b[1;34m'Sex'\u001b[0m\u001b[1;33m]\u001b[0m \u001b[1;32min\u001b[0m \u001b[0mdf\u001b[0m\u001b[1;33m[\u001b[0m\u001b[1;34m'Sex'\u001b[0m\u001b[1;33m]\u001b[0m\u001b[1;33m]\u001b[0m\u001b[1;33m\u001b[0m\u001b[1;33m\u001b[0m\u001b[0m\n\u001b[0m",
      "\u001b[1;32m<ipython-input-295-af840cc7e0cd>\u001b[0m in \u001b[0;36m<listcomp>\u001b[1;34m(.0)\u001b[0m\n\u001b[1;32m----> 1\u001b[1;33m \u001b[1;33m[\u001b[0m\u001b[0mrng\u001b[0m\u001b[1;33m.\u001b[0m\u001b[0mnormal\u001b[0m\u001b[1;33m(\u001b[0m\u001b[1;36m179\u001b[0m\u001b[1;33m,\u001b[0m \u001b[1;36m8\u001b[0m\u001b[1;33m)\u001b[0m \u001b[1;32mif\u001b[0m \u001b[0mdf\u001b[0m\u001b[1;33m[\u001b[0m\u001b[1;34m'Sex'\u001b[0m\u001b[1;33m]\u001b[0m \u001b[1;33m==\u001b[0m \u001b[1;34m'Male'\u001b[0m \u001b[1;32melse\u001b[0m \u001b[0mrng\u001b[0m\u001b[1;33m.\u001b[0m\u001b[0mnormal\u001b[0m\u001b[1;33m(\u001b[0m\u001b[1;36m165\u001b[0m\u001b[1;33m,\u001b[0m \u001b[1;36m7\u001b[0m\u001b[1;33m)\u001b[0m \u001b[1;32mfor\u001b[0m \u001b[0mdf\u001b[0m\u001b[1;33m[\u001b[0m\u001b[1;34m'Sex'\u001b[0m\u001b[1;33m]\u001b[0m \u001b[1;32min\u001b[0m \u001b[0mdf\u001b[0m\u001b[1;33m[\u001b[0m\u001b[1;34m'Sex'\u001b[0m\u001b[1;33m]\u001b[0m\u001b[1;33m]\u001b[0m\u001b[1;33m\u001b[0m\u001b[1;33m\u001b[0m\u001b[0m\n\u001b[0m",
      "\u001b[1;32m~\\Anaconda3\\lib\\site-packages\\pandas\\core\\generic.py\u001b[0m in \u001b[0;36m__nonzero__\u001b[1;34m(self)\u001b[0m\n\u001b[0;32m   1553\u001b[0m             \u001b[1;34m\"The truth value of a {0} is ambiguous. \"\u001b[0m\u001b[1;33m\u001b[0m\u001b[1;33m\u001b[0m\u001b[0m\n\u001b[0;32m   1554\u001b[0m             \"Use a.empty, a.bool(), a.item(), a.any() or a.all().\".format(\n\u001b[1;32m-> 1555\u001b[1;33m                 \u001b[0mself\u001b[0m\u001b[1;33m.\u001b[0m\u001b[0m__class__\u001b[0m\u001b[1;33m.\u001b[0m\u001b[0m__name__\u001b[0m\u001b[1;33m\u001b[0m\u001b[1;33m\u001b[0m\u001b[0m\n\u001b[0m\u001b[0;32m   1556\u001b[0m             )\n\u001b[0;32m   1557\u001b[0m         )\n",
      "\u001b[1;31mValueError\u001b[0m: The truth value of a Series is ambiguous. Use a.empty, a.bool(), a.item(), a.any() or a.all()."
     ]
    }
   ],
   "source": []
  },
  {
   "cell_type": "code",
   "execution_count": 293,
   "metadata": {},
   "outputs": [
    {
     "name": "stdout",
     "output_type": "stream",
     "text": [
      "Male\n"
     ]
    },
    {
     "data": {
      "text/plain": [
       "[182.76843356053558,\n",
       " 179.1414593643049,\n",
       " 152.8499068603903,\n",
       " 153.2826569692336,\n",
       " 156.6650759394108,\n",
       " 167.28799078625318,\n",
       " 175.15773373503663,\n",
       " 157.0272677019508,\n",
       " 165.68280312448894,\n",
       " 154.22785660728408,\n",
       " 156.67418866873652,\n",
       " 171.0471227409297,\n",
       " 155.47346499209632,\n",
       " 167.33348036230237,\n",
       " 168.39006233288913,\n",
       " 185.6193964935473,\n",
       " 161.6793216990794,\n",
       " 188.26889474831205,\n",
       " 167.97857976978534,\n",
       " 170.18907866241057,\n",
       " 188.71397212237832,\n",
       " 170.09522845854823,\n",
       " 159.89638438242778,\n",
       " 171.91858704417453,\n",
       " 170.428448422308,\n",
       " 177.17539712603107,\n",
       " 168.0689584292875,\n",
       " 173.5541805927429,\n",
       " 158.54186305660022,\n",
       " 157.54377570556386,\n",
       " 175.02553541767804,\n",
       " 170.53660695775642,\n",
       " 185.9314998051276,\n",
       " 164.08871749727916,\n",
       " 191.19100082762426,\n",
       " 175.69227070189146,\n",
       " 171.2497490752482,\n",
       " 167.22801935902385,\n",
       " 172.55590494433017,\n",
       " 182.55222068850478,\n",
       " 180.047840378947,\n",
       " 160.8705949968801,\n",
       " 175.83895299162296,\n",
       " 182.6106067922192,\n",
       " 169.68830929290831,\n",
       " 179.49866981187486,\n",
       " 173.43729845297415,\n",
       " 173.2071428938761,\n",
       " 177.77613033383128,\n",
       " 164.317037731894,\n",
       " 181.2789250137886,\n",
       " 161.7752956021407,\n",
       " 160.8495219766009,\n",
       " 188.47992783805898,\n",
       " 172.496623942145,\n",
       " 155.3716160006992,\n",
       " 174.6816917342756,\n",
       " 172.78766533830577,\n",
       " 183.4122820000973,\n",
       " 154.82863261515695,\n",
       " 193.30799591389354,\n",
       " 163.58280216911245,\n",
       " 161.31425815521425,\n",
       " 189.4292615023619,\n",
       " 163.21010829160696,\n",
       " 183.09721888924645,\n",
       " 172.71185997466634,\n",
       " 171.21394782913646,\n",
       " 167.0708412300315,\n",
       " 172.1089639396517,\n",
       " 165.3437333381841,\n",
       " 181.92536802604,\n",
       " 172.10858110290863,\n",
       " 184.0707597187395,\n",
       " 172.10525269243524,\n",
       " 173.36598607069237,\n",
       " 169.7346519245737,\n",
       " 169.03949825687246,\n",
       " 169.39912513775775,\n",
       " 186.93341209177453,\n",
       " 186.203003935747,\n",
       " 185.03323174750003,\n",
       " 170.54965478728013,\n",
       " 167.0893976187229,\n",
       " 152.76859900488125,\n",
       " 181.3663923708285,\n",
       " 160.58013501744188,\n",
       " 170.05240945509772,\n",
       " 157.08931461826398,\n",
       " 164.37949444194967,\n",
       " 176.76873547069223,\n",
       " 165.76537849329776,\n",
       " 175.71377987039213,\n",
       " 164.85786155484553,\n",
       " 160.19239583656136,\n",
       " 160.07675213803296,\n",
       " 168.8603725060677,\n",
       " 175.08416477522613,\n",
       " 179.65081088378486,\n",
       " 167.66504540868578]"
      ]
     },
     "execution_count": 293,
     "metadata": {},
     "output_type": "execute_result"
    }
   ],
   "source": [
    "Heights()"
   ]
  },
  {
   "cell_type": "code",
   "execution_count": 294,
   "metadata": {},
   "outputs": [
    {
     "data": {
      "text/plain": [
       "0       Male\n",
       "1       Male\n",
       "2     Female\n",
       "3     Female\n",
       "4     Female\n",
       "       ...  \n",
       "95    Female\n",
       "96    Female\n",
       "97    Female\n",
       "98      Male\n",
       "99      Male\n",
       "Name: Sex, Length: 100, dtype: object"
      ]
     },
     "execution_count": 294,
     "metadata": {},
     "output_type": "execute_result"
    }
   ],
   "source": [
    "df['Sex']"
   ]
  },
  {
   "cell_type": "code",
   "execution_count": 132,
   "metadata": {
    "scrolled": true
   },
   "outputs": [
    {
     "name": "stderr",
     "output_type": "stream",
     "text": [
      "C:\\Users\\James\\Anaconda3\\lib\\site-packages\\ipykernel_launcher.py:7: SettingWithCopyWarning: \n",
      "A value is trying to be set on a copy of a slice from a DataFrame\n",
      "\n",
      "See the caveats in the documentation: http://pandas.pydata.org/pandas-docs/stable/user_guide/indexing.html#returning-a-view-versus-a-copy\n",
      "  import sys\n"
     ]
    }
   ],
   "source": [
    "\n",
    "heights(i)"
   ]
  },
  {
   "cell_type": "markdown",
   "metadata": {},
   "source": [
    "Average Heights: https://en.wikipedia.org/wiki/Average_human_height_by_country#Table_of_heights\n",
    "\n",
    "ref: https://doi.org/10.1787%2F550623158455"
   ]
  },
  {
   "cell_type": "code",
   "execution_count": 20,
   "metadata": {
    "scrolled": true
   },
   "outputs": [
    {
     "data": {
      "text/plain": [
       "array([180.50066452, 178.1950648 , 187.17053501, 180.03026744,\n",
       "       187.99744417, 167.87990078, 183.92444116, 193.79946907,\n",
       "       178.47050409, 180.19132835, 181.18621648, 184.27880506,\n",
       "       178.71694711, 187.22417559, 192.37420522, 179.02918474,\n",
       "       184.71743354, 177.39077206, 183.5895585 , 188.64162811,\n",
       "       187.09017613, 175.78427577, 186.63487036, 174.65100798,\n",
       "       174.92279276, 194.423482  , 187.61329251, 168.19744211,\n",
       "       181.87567186, 170.95915781, 178.27207958, 168.60114442,\n",
       "       186.51368019, 174.7328704 , 181.52462932, 169.39411655,\n",
       "       181.54852263, 187.17816928, 176.05386939, 170.84508983,\n",
       "       180.84673919, 178.67493605, 183.87490525, 173.23047264,\n",
       "       186.08216692, 185.19983505, 171.39496156, 184.07285691,\n",
       "       172.87792912, 172.82447598, 178.94934027, 183.23668189,\n",
       "       162.33483251, 159.39730723, 180.54523992, 191.61732754,\n",
       "       174.47478266, 187.49116126, 178.23621383, 182.91118872,\n",
       "       167.03243766, 174.96755763, 188.24371342, 178.9962297 ,\n",
       "       175.00152071, 193.85454135, 175.56122844, 175.04916238,\n",
       "       190.3417486 , 179.33715141, 191.47182772, 180.90424856,\n",
       "       171.17658536, 172.59790382, 179.64759277, 171.19611878,\n",
       "       194.61284994, 185.51734694, 177.15098352, 169.04475806,\n",
       "       181.35928497, 189.43776564, 185.3332337 , 186.74786211,\n",
       "       189.66922935, 172.99876819, 190.43064496, 173.83125721,\n",
       "       193.6969462 , 166.8218702 , 186.4138385 , 177.04816718,\n",
       "       173.00439165, 168.87054364, 173.25839327, 183.42896076,\n",
       "       183.88588578, 172.53132173, 178.47849332, 180.07147219])"
      ]
     },
     "execution_count": 20,
     "metadata": {},
     "output_type": "execute_result"
    }
   ],
   "source": [
    "height_male = rng.normal(179, 8, 100)\n",
    "height_male"
   ]
  },
  {
   "cell_type": "markdown",
   "metadata": {},
   "source": [
    "Weight\n",
    "\n",
    "I thought about using a predictor for the weight based off height,based on the below page and dataset comtained in it:\n",
    "https://towardsdatascience.com/machine-learning-project-9-predict-weight-based-on-height-and-gender-9ed47285bcbbbut  \n",
    "\n",
    "However I decide to make it a bit simpler and not over-complicate the project"
   ]
  },
  {
   "cell_type": "code",
   "execution_count": null,
   "metadata": {},
   "outputs": [],
   "source": []
  },
  {
   "cell_type": "code",
   "execution_count": null,
   "metadata": {},
   "outputs": [],
   "source": []
  },
  {
   "cell_type": "code",
   "execution_count": 24,
   "metadata": {},
   "outputs": [],
   "source": [
    "drinker = ['NonDrinker', 'Drinker']\n",
    "drinkers  = rng.choice(drinker,p=[0.02, 0.98], size = 100)"
   ]
  },
  {
   "cell_type": "code",
   "execution_count": 197,
   "metadata": {
    "scrolled": true
   },
   "outputs": [],
   "source": [
    "def drinker():\n",
    "    drinker = ['NonDrinker', 'Drinker']\n",
    "    drinkers  = rng.choice(drinker,p=[0.15, 0.85])\n",
    "    return drinkers"
   ]
  },
  {
   "cell_type": "code",
   "execution_count": 216,
   "metadata": {},
   "outputs": [],
   "source": [
    "df['Drinker'] = drinker()"
   ]
  },
  {
   "cell_type": "code",
   "execution_count": 217,
   "metadata": {},
   "outputs": [
    {
     "data": {
      "text/plain": [
       "0     Drinker\n",
       "1     Drinker\n",
       "2     Drinker\n",
       "3     Drinker\n",
       "4     Drinker\n",
       "       ...   \n",
       "95    Drinker\n",
       "96    Drinker\n",
       "97    Drinker\n",
       "98    Drinker\n",
       "99    Drinker\n",
       "Name: Drinker, Length: 100, dtype: object"
      ]
     },
     "execution_count": 217,
     "metadata": {},
     "output_type": "execute_result"
    }
   ],
   "source": [
    "df['Drinker'] "
   ]
  },
  {
   "cell_type": "markdown",
   "metadata": {},
   "source": [
    "Average litres of pure alcohol drank in ireland per year: 11.6\n",
    "\n",
    "Average litres of pure alcohol drank in ireland per week: 0.223 litres/week\n",
    "\n",
    "https://www.oecd.org/ireland/Tackling-Harmful-Alcohol-Use-Ireland-en.pdf"
   ]
  },
  {
   "cell_type": "code",
   "execution_count": 38,
   "metadata": {},
   "outputs": [
    {
     "data": {
      "text/plain": [
       "array([12.70861569, 25.13055858, 21.17019232,  4.45538293, 35.80188195,\n",
       "       24.91940299,  7.8948559 , 23.23271356, 17.31255494, 17.49539531,\n",
       "       13.90314584, 28.76205927, 24.57050534, 25.21638462, 20.4105118 ,\n",
       "       13.08354606, 29.42183085, 16.08952202, 17.14206939, 24.61434708,\n",
       "       19.93602604, 24.1096712 , 16.12480796, 25.06126808, 34.22250617,\n",
       "       36.11994029, 12.43887303, 22.88024548, 17.85241856, 34.17709766,\n",
       "       10.15322667, 23.19961175, 32.35649598, 23.80547464, 26.16090964,\n",
       "       23.26337308, 15.0884527 , 28.23292198,  9.02341786, 28.68197082,\n",
       "       20.83947952, 11.31629824, 19.53249827, 26.94144318, 30.29515042,\n",
       "       15.15468786, 26.86579268, 22.18346212, 30.69396233, 18.20845058,\n",
       "       24.7314199 , 15.66020751, 36.78868058, 44.85911144, 27.62149419,\n",
       "       16.29403461, 27.75230094, 26.65449223, 25.35346252, 20.86921481,\n",
       "       28.45284715, 17.56273195, 25.58872514, 21.29369378, 30.17500277,\n",
       "        9.36821196, 17.39834283, 22.01336013, 25.7895215 , 36.08202689,\n",
       "       22.9970353 , 18.27462089, 24.60948364, 15.60034348, 30.44602247,\n",
       "       16.72792586, 15.36393767, 34.78870794, 27.10332249, 35.4998977 ,\n",
       "       31.62871256, 25.92046592, 27.03564329, 15.21453374, 34.01369105,\n",
       "       20.32218465,  3.26611794,  2.55315562, 20.30523798, 17.07870485,\n",
       "       20.96852317, 20.38851301, 17.65990082, 24.14915675, 19.44812308,\n",
       "       18.22307143, 27.07957217, 24.88754516, 13.11948958, 23.83384676])"
      ]
     },
     "execution_count": 38,
     "metadata": {},
     "output_type": "execute_result"
    }
   ],
   "source": [
    "litres_drank = rng.normal(0.223, 0.075 ,100)\n",
    "units_drank= litres_drank /0.01\n",
    "units_drank"
   ]
  },
  {
   "cell_type": "code",
   "execution_count": 199,
   "metadata": {},
   "outputs": [],
   "source": [
    "def units_drank():\n",
    "    litres_drank = rng.normal(0.223, 0.075 ,100)\n",
    "    unit_drank= litres_drank /0.01\n",
    "    return unit_drank"
   ]
  },
  {
   "cell_type": "code",
   "execution_count": null,
   "metadata": {},
   "outputs": [],
   "source": [
    "columns=['Age', 'Sex','Height', 'Weight', 'Drinker', 'Alcohol_units_wk','Smoker', 'Cigs/day', 'Exercise_wk', 'Diet',\n",
    "                           'Calories_day','Hours_Sleep', 'Water_l_day']"
   ]
  },
  {
   "cell_type": "code",
   "execution_count": 312,
   "metadata": {},
   "outputs": [],
   "source": [
    "def units_drank():\n",
    "    units = [rng.normal(0.223, 0.075) if x == 'Drinker' else 0 for x in df['Drinker']]\n",
    "    return units"
   ]
  },
  {
   "cell_type": "code",
   "execution_count": 319,
   "metadata": {},
   "outputs": [
    {
     "data": {
      "text/plain": [
       "100"
      ]
     },
     "execution_count": 319,
     "metadata": {},
     "output_type": "execute_result"
    }
   ],
   "source": [
    "len(units_drank()"
   ]
  },
  {
   "cell_type": "code",
   "execution_count": 240,
   "metadata": {},
   "outputs": [
    {
     "ename": "SyntaxError",
     "evalue": "invalid syntax (<ipython-input-240-e2f444a96131>, line 1)",
     "output_type": "error",
     "traceback": [
      "\u001b[1;36m  File \u001b[1;32m\"<ipython-input-240-e2f444a96131>\"\u001b[1;36m, line \u001b[1;32m1\u001b[0m\n\u001b[1;33m    while np.equal(df['Drinker'],'Drinker') == True\u001b[0m\n\u001b[1;37m                                                   ^\u001b[0m\n\u001b[1;31mSyntaxError\u001b[0m\u001b[1;31m:\u001b[0m invalid syntax\n"
     ]
    }
   ],
   "source": [
    "while np.equal(df['Drinker'],'Drinker') == True\n",
    "[rng.normal(179, 8) if x == 'Male' else rng.normal(165, 7) for x in df['Sex']]"
   ]
  },
  {
   "cell_type": "code",
   "execution_count": 225,
   "metadata": {},
   "outputs": [
    {
     "data": {
      "text/html": [
       "<div>\n",
       "<style scoped>\n",
       "    .dataframe tbody tr th:only-of-type {\n",
       "        vertical-align: middle;\n",
       "    }\n",
       "\n",
       "    .dataframe tbody tr th {\n",
       "        vertical-align: top;\n",
       "    }\n",
       "\n",
       "    .dataframe thead th {\n",
       "        text-align: right;\n",
       "    }\n",
       "</style>\n",
       "<table border=\"1\" class=\"dataframe\">\n",
       "  <thead>\n",
       "    <tr style=\"text-align: right;\">\n",
       "      <th></th>\n",
       "      <th>Age</th>\n",
       "      <th>Sex</th>\n",
       "      <th>Height</th>\n",
       "      <th>Weight</th>\n",
       "      <th>Alcohol_units_wk</th>\n",
       "      <th>Smoker</th>\n",
       "      <th>Cigs/day</th>\n",
       "      <th>Time_Smoked_PrevExercise_wk</th>\n",
       "      <th>Exercise_Consistency</th>\n",
       "      <th>Diet</th>\n",
       "      <th>Calories_day</th>\n",
       "      <th>Hours_Sleep</th>\n",
       "      <th>Water_l_day</th>\n",
       "      <th>Stress_lvls</th>\n",
       "      <th>Underlying_health</th>\n",
       "      <th>Drinker</th>\n",
       "    </tr>\n",
       "  </thead>\n",
       "  <tbody>\n",
       "    <tr>\n",
       "      <td>0</td>\n",
       "      <td>NaN</td>\n",
       "      <td>Male</td>\n",
       "      <td>182.511263</td>\n",
       "      <td>NaN</td>\n",
       "      <td>17.138568</td>\n",
       "      <td>NaN</td>\n",
       "      <td>NaN</td>\n",
       "      <td>NaN</td>\n",
       "      <td>NaN</td>\n",
       "      <td>NaN</td>\n",
       "      <td>2249</td>\n",
       "      <td>NaN</td>\n",
       "      <td>2.186909</td>\n",
       "      <td>NaN</td>\n",
       "      <td>NaN</td>\n",
       "      <td>Drinker</td>\n",
       "    </tr>\n",
       "    <tr>\n",
       "      <td>1</td>\n",
       "      <td>NaN</td>\n",
       "      <td>Male</td>\n",
       "      <td>161.462976</td>\n",
       "      <td>NaN</td>\n",
       "      <td>16.934330</td>\n",
       "      <td>NaN</td>\n",
       "      <td>NaN</td>\n",
       "      <td>NaN</td>\n",
       "      <td>NaN</td>\n",
       "      <td>NaN</td>\n",
       "      <td>0</td>\n",
       "      <td>NaN</td>\n",
       "      <td>0.824347</td>\n",
       "      <td>NaN</td>\n",
       "      <td>NaN</td>\n",
       "      <td>Drinker</td>\n",
       "    </tr>\n",
       "    <tr>\n",
       "      <td>2</td>\n",
       "      <td>NaN</td>\n",
       "      <td>Female</td>\n",
       "      <td>155.475587</td>\n",
       "      <td>NaN</td>\n",
       "      <td>23.549604</td>\n",
       "      <td>NaN</td>\n",
       "      <td>NaN</td>\n",
       "      <td>NaN</td>\n",
       "      <td>NaN</td>\n",
       "      <td>NaN</td>\n",
       "      <td>0</td>\n",
       "      <td>NaN</td>\n",
       "      <td>1.037186</td>\n",
       "      <td>NaN</td>\n",
       "      <td>NaN</td>\n",
       "      <td>Drinker</td>\n",
       "    </tr>\n",
       "    <tr>\n",
       "      <td>3</td>\n",
       "      <td>NaN</td>\n",
       "      <td>Female</td>\n",
       "      <td>155.475587</td>\n",
       "      <td>NaN</td>\n",
       "      <td>17.899985</td>\n",
       "      <td>NaN</td>\n",
       "      <td>NaN</td>\n",
       "      <td>NaN</td>\n",
       "      <td>NaN</td>\n",
       "      <td>NaN</td>\n",
       "      <td>0</td>\n",
       "      <td>NaN</td>\n",
       "      <td>1.664711</td>\n",
       "      <td>NaN</td>\n",
       "      <td>NaN</td>\n",
       "      <td>Drinker</td>\n",
       "    </tr>\n",
       "    <tr>\n",
       "      <td>4</td>\n",
       "      <td>NaN</td>\n",
       "      <td>Female</td>\n",
       "      <td>155.475587</td>\n",
       "      <td>NaN</td>\n",
       "      <td>21.716816</td>\n",
       "      <td>NaN</td>\n",
       "      <td>NaN</td>\n",
       "      <td>NaN</td>\n",
       "      <td>NaN</td>\n",
       "      <td>NaN</td>\n",
       "      <td>0</td>\n",
       "      <td>NaN</td>\n",
       "      <td>1.533840</td>\n",
       "      <td>NaN</td>\n",
       "      <td>NaN</td>\n",
       "      <td>Drinker</td>\n",
       "    </tr>\n",
       "    <tr>\n",
       "      <td>...</td>\n",
       "      <td>...</td>\n",
       "      <td>...</td>\n",
       "      <td>...</td>\n",
       "      <td>...</td>\n",
       "      <td>...</td>\n",
       "      <td>...</td>\n",
       "      <td>...</td>\n",
       "      <td>...</td>\n",
       "      <td>...</td>\n",
       "      <td>...</td>\n",
       "      <td>...</td>\n",
       "      <td>...</td>\n",
       "      <td>...</td>\n",
       "      <td>...</td>\n",
       "      <td>...</td>\n",
       "      <td>...</td>\n",
       "    </tr>\n",
       "    <tr>\n",
       "      <td>95</td>\n",
       "      <td>NaN</td>\n",
       "      <td>Female</td>\n",
       "      <td>155.475587</td>\n",
       "      <td>NaN</td>\n",
       "      <td>19.438220</td>\n",
       "      <td>NaN</td>\n",
       "      <td>NaN</td>\n",
       "      <td>NaN</td>\n",
       "      <td>NaN</td>\n",
       "      <td>NaN</td>\n",
       "      <td>0</td>\n",
       "      <td>NaN</td>\n",
       "      <td>0.626702</td>\n",
       "      <td>NaN</td>\n",
       "      <td>NaN</td>\n",
       "      <td>Drinker</td>\n",
       "    </tr>\n",
       "    <tr>\n",
       "      <td>96</td>\n",
       "      <td>NaN</td>\n",
       "      <td>Female</td>\n",
       "      <td>155.475587</td>\n",
       "      <td>NaN</td>\n",
       "      <td>31.269708</td>\n",
       "      <td>NaN</td>\n",
       "      <td>NaN</td>\n",
       "      <td>NaN</td>\n",
       "      <td>NaN</td>\n",
       "      <td>NaN</td>\n",
       "      <td>0</td>\n",
       "      <td>NaN</td>\n",
       "      <td>1.188805</td>\n",
       "      <td>NaN</td>\n",
       "      <td>NaN</td>\n",
       "      <td>Drinker</td>\n",
       "    </tr>\n",
       "    <tr>\n",
       "      <td>97</td>\n",
       "      <td>NaN</td>\n",
       "      <td>Female</td>\n",
       "      <td>155.475587</td>\n",
       "      <td>NaN</td>\n",
       "      <td>14.344123</td>\n",
       "      <td>NaN</td>\n",
       "      <td>NaN</td>\n",
       "      <td>NaN</td>\n",
       "      <td>NaN</td>\n",
       "      <td>NaN</td>\n",
       "      <td>0</td>\n",
       "      <td>NaN</td>\n",
       "      <td>1.789016</td>\n",
       "      <td>NaN</td>\n",
       "      <td>NaN</td>\n",
       "      <td>Drinker</td>\n",
       "    </tr>\n",
       "    <tr>\n",
       "      <td>98</td>\n",
       "      <td>NaN</td>\n",
       "      <td>Male</td>\n",
       "      <td>161.462976</td>\n",
       "      <td>NaN</td>\n",
       "      <td>26.259684</td>\n",
       "      <td>NaN</td>\n",
       "      <td>NaN</td>\n",
       "      <td>NaN</td>\n",
       "      <td>NaN</td>\n",
       "      <td>NaN</td>\n",
       "      <td>0</td>\n",
       "      <td>NaN</td>\n",
       "      <td>1.325402</td>\n",
       "      <td>NaN</td>\n",
       "      <td>NaN</td>\n",
       "      <td>Drinker</td>\n",
       "    </tr>\n",
       "    <tr>\n",
       "      <td>99</td>\n",
       "      <td>NaN</td>\n",
       "      <td>Male</td>\n",
       "      <td>161.462976</td>\n",
       "      <td>NaN</td>\n",
       "      <td>22.957349</td>\n",
       "      <td>NaN</td>\n",
       "      <td>NaN</td>\n",
       "      <td>NaN</td>\n",
       "      <td>NaN</td>\n",
       "      <td>NaN</td>\n",
       "      <td>0</td>\n",
       "      <td>NaN</td>\n",
       "      <td>1.994363</td>\n",
       "      <td>NaN</td>\n",
       "      <td>NaN</td>\n",
       "      <td>Drinker</td>\n",
       "    </tr>\n",
       "  </tbody>\n",
       "</table>\n",
       "<p>100 rows × 16 columns</p>\n",
       "</div>"
      ],
      "text/plain": [
       "    Age     Sex      Height Weight  Alcohol_units_wk Smoker Cigs/day  \\\n",
       "0   NaN    Male  182.511263    NaN         17.138568    NaN      NaN   \n",
       "1   NaN    Male  161.462976    NaN         16.934330    NaN      NaN   \n",
       "2   NaN  Female  155.475587    NaN         23.549604    NaN      NaN   \n",
       "3   NaN  Female  155.475587    NaN         17.899985    NaN      NaN   \n",
       "4   NaN  Female  155.475587    NaN         21.716816    NaN      NaN   \n",
       "..  ...     ...         ...    ...               ...    ...      ...   \n",
       "95  NaN  Female  155.475587    NaN         19.438220    NaN      NaN   \n",
       "96  NaN  Female  155.475587    NaN         31.269708    NaN      NaN   \n",
       "97  NaN  Female  155.475587    NaN         14.344123    NaN      NaN   \n",
       "98  NaN    Male  161.462976    NaN         26.259684    NaN      NaN   \n",
       "99  NaN    Male  161.462976    NaN         22.957349    NaN      NaN   \n",
       "\n",
       "   Time_Smoked_PrevExercise_wk Exercise_Consistency Diet  Calories_day  \\\n",
       "0                          NaN                  NaN  NaN          2249   \n",
       "1                          NaN                  NaN  NaN             0   \n",
       "2                          NaN                  NaN  NaN             0   \n",
       "3                          NaN                  NaN  NaN             0   \n",
       "4                          NaN                  NaN  NaN             0   \n",
       "..                         ...                  ...  ...           ...   \n",
       "95                         NaN                  NaN  NaN             0   \n",
       "96                         NaN                  NaN  NaN             0   \n",
       "97                         NaN                  NaN  NaN             0   \n",
       "98                         NaN                  NaN  NaN             0   \n",
       "99                         NaN                  NaN  NaN             0   \n",
       "\n",
       "   Hours_Sleep  Water_l_day Stress_lvls Underlying_health  Drinker  \n",
       "0          NaN     2.186909         NaN               NaN  Drinker  \n",
       "1          NaN     0.824347         NaN               NaN  Drinker  \n",
       "2          NaN     1.037186         NaN               NaN  Drinker  \n",
       "3          NaN     1.664711         NaN               NaN  Drinker  \n",
       "4          NaN     1.533840         NaN               NaN  Drinker  \n",
       "..         ...          ...         ...               ...      ...  \n",
       "95         NaN     0.626702         NaN               NaN  Drinker  \n",
       "96         NaN     1.188805         NaN               NaN  Drinker  \n",
       "97         NaN     1.789016         NaN               NaN  Drinker  \n",
       "98         NaN     1.325402         NaN               NaN  Drinker  \n",
       "99         NaN     1.994363         NaN               NaN  Drinker  \n",
       "\n",
       "[100 rows x 16 columns]"
      ]
     },
     "execution_count": 225,
     "metadata": {},
     "output_type": "execute_result"
    }
   ],
   "source": [
    "del df['drinker']\n",
    "df"
   ]
  },
  {
   "cell_type": "markdown",
   "metadata": {},
   "source": [
    "10g of pure alcohol = 1 unit, 10g = 0.01 litres"
   ]
  },
  {
   "cell_type": "markdown",
   "metadata": {},
   "source": [
    "Smoker (cigarettes/day)"
   ]
  },
  {
   "cell_type": "code",
   "execution_count": 41,
   "metadata": {},
   "outputs": [],
   "source": [
    "smoker = ['non_smoker', 'smoker']\n",
    "smokers  = rng.choice(smoker,p=[0.83, 0.17], size = 100)"
   ]
  },
  {
   "cell_type": "code",
   "execution_count": 42,
   "metadata": {},
   "outputs": [
    {
     "data": {
      "text/plain": [
       "array(['non_smoker', 'non_smoker', 'non_smoker', 'non_smoker',\n",
       "       'non_smoker', 'smoker', 'non_smoker', 'non_smoker', 'non_smoker',\n",
       "       'non_smoker', 'non_smoker', 'non_smoker', 'smoker', 'smoker',\n",
       "       'non_smoker', 'non_smoker', 'non_smoker', 'smoker', 'non_smoker',\n",
       "       'smoker', 'non_smoker', 'smoker', 'non_smoker', 'non_smoker',\n",
       "       'non_smoker', 'non_smoker', 'non_smoker', 'non_smoker',\n",
       "       'non_smoker', 'smoker', 'non_smoker', 'non_smoker', 'non_smoker',\n",
       "       'non_smoker', 'non_smoker', 'non_smoker', 'non_smoker',\n",
       "       'non_smoker', 'non_smoker', 'smoker', 'non_smoker', 'non_smoker',\n",
       "       'non_smoker', 'non_smoker', 'smoker', 'non_smoker', 'non_smoker',\n",
       "       'non_smoker', 'smoker', 'non_smoker', 'non_smoker', 'non_smoker',\n",
       "       'non_smoker', 'smoker', 'non_smoker', 'non_smoker', 'non_smoker',\n",
       "       'smoker', 'smoker', 'non_smoker', 'non_smoker', 'non_smoker',\n",
       "       'non_smoker', 'non_smoker', 'non_smoker', 'non_smoker', 'smoker',\n",
       "       'non_smoker', 'non_smoker', 'non_smoker', 'non_smoker',\n",
       "       'non_smoker', 'non_smoker', 'non_smoker', 'non_smoker',\n",
       "       'non_smoker', 'non_smoker', 'non_smoker', 'non_smoker', 'smoker',\n",
       "       'non_smoker', 'non_smoker', 'non_smoker', 'non_smoker', 'smoker',\n",
       "       'non_smoker', 'non_smoker', 'non_smoker', 'non_smoker',\n",
       "       'non_smoker', 'non_smoker', 'smoker', 'non_smoker', 'non_smoker',\n",
       "       'non_smoker', 'smoker', 'non_smoker', 'non_smoker', 'non_smoker',\n",
       "       'smoker'], dtype='<U10')"
      ]
     },
     "execution_count": 42,
     "metadata": {},
     "output_type": "execute_result"
    }
   ],
   "source": [
    "smokers"
   ]
  },
  {
   "cell_type": "markdown",
   "metadata": {},
   "source": [
    "average number of cigarettes smoked: 12.5\n",
    "    \n",
    "https://www.hse.ie/eng/about/who/tobaccocontrol/tobaccofreeireland/adult-smoking-in-ireland.pdf - page 17"
   ]
  },
  {
   "cell_type": "code",
   "execution_count": 48,
   "metadata": {},
   "outputs": [
    {
     "data": {
      "text/plain": [
       "array([12.07392195, 16.6551315 , 13.59974079, 19.96986212,  7.51893133,\n",
       "        5.6690298 , 11.18216767,  8.43551711, 14.09307207,  4.55222158,\n",
       "       14.31116154, 18.67397442, 14.77103374, 15.00170152,  8.87332402,\n",
       "       13.51737853, 12.76253879, 12.41731009,  1.92838953,  9.95438522,\n",
       "       18.77167908,  9.7687632 ,  7.29094828, 14.56903088, 18.79956065,\n",
       "        8.62939286, 10.46779685,  6.1306149 ,  7.11787624, 14.66191462,\n",
       "       16.68755167, 16.36234506, 10.61077525, 20.53373885, 13.92466167,\n",
       "       17.9687576 , 15.07943184, 17.01546881, 12.18246893, 26.43280287,\n",
       "       16.04480688, 14.54488527, 12.58779798, 12.01065075, 17.01812546,\n",
       "        7.04566542, 24.78964132,  7.28190092,  4.2435806 ,  6.5502805 ,\n",
       "        8.0857096 , 11.02190547, 15.87868617,  8.10796501, 13.89136625,\n",
       "        4.79666688, 15.0670103 , 12.37499517, 10.0469987 , 11.4030233 ,\n",
       "       15.61390163, 10.68673816, 19.00453817, 17.30772429, 14.99952676,\n",
       "       13.91557383, 14.48979185, 11.39452872,  9.7828431 , 16.03438577,\n",
       "       23.74663477,  8.93035682, 17.19421054, 14.76970917,  6.64374851,\n",
       "       13.74672517, 12.62508974, 11.8138963 , 17.48569955, 16.76431049,\n",
       "        6.13596114,  5.09130188, 14.21136673, 16.27600235, 13.35024941,\n",
       "       21.09967564, 18.09781568,  5.15492533,  9.41706251, 19.08671872,\n",
       "       19.03787212,  9.94238201,  7.81463045,  9.66133492,  4.70227362,\n",
       "        6.14748992, 12.21764329, 18.45103522, 11.62532436, 18.42810729])"
      ]
     },
     "execution_count": 48,
     "metadata": {},
     "output_type": "execute_result"
    }
   ],
   "source": [
    "cigarettes_smoked = rng.normal(12.5, 5 ,100)\n",
    "cigarettes_smoked"
   ]
  },
  {
   "cell_type": "markdown",
   "metadata": {},
   "source": [
    "Hours exercise per week\n",
    "\n",
    "The National Guidelines for Physical Activity recommends that people should undertake at least 150 minutes of activity per week, made up of at least 30 minutes of moderate activity, five times a week.\n",
    "\n",
    "https://www.hse.ie/eng/about/who/healthwellbeing/our-priority-programmes/heal/physical-activity-guidelines/\n",
    "\n",
    "only 33% of Irish adults get sufficient excerise:\n",
    "\n",
    "https://www.euro.who.int/__data/assets/pdf_file/0005/382514/ireland-eng.pdf"
   ]
  },
  {
   "cell_type": "code",
   "execution_count": 49,
   "metadata": {},
   "outputs": [
    {
     "data": {
      "text/plain": [
       "array([2.40048214, 1.11909559, 0.74049051, 1.38080929, 2.15200789,\n",
       "       1.61543639, 1.0877618 , 1.52173311, 1.40477492, 1.95656003,\n",
       "       1.39053999, 2.65205737, 1.42886358, 0.92067543, 1.66646254,\n",
       "       1.00472095, 1.47539809, 0.74074158, 0.59233509, 1.27640871,\n",
       "       1.22941225, 1.73790663, 1.10743119, 0.82285704, 1.24430371,\n",
       "       0.66277117, 1.26137858, 0.50694725, 1.44050434, 1.15788232,\n",
       "       1.75228711, 1.42048294, 1.4730339 , 0.64065844, 1.32309987,\n",
       "       1.42925208, 0.82084647, 1.9651791 , 2.11592073, 1.81420057,\n",
       "       0.35683892, 0.78046099, 0.9342632 , 1.30085831, 1.40132441,\n",
       "       1.57719601, 1.48520116, 1.68682075, 1.10168398, 1.64681073,\n",
       "       1.62061559, 1.20908862, 2.05765106, 1.45400102, 1.89564665,\n",
       "       2.55273951, 1.61833835, 0.94357251, 1.17431069, 1.59224297,\n",
       "       1.18645838, 1.51916491, 2.58569912, 1.07872061, 1.85996248,\n",
       "       1.06272045, 0.9598799 , 1.50176493, 0.68499436, 1.69634875,\n",
       "       1.21653017, 1.79117377, 0.77820811, 1.83822162, 1.39960998,\n",
       "       1.7613852 , 0.47366451, 1.62176294, 1.05110279, 1.55504086,\n",
       "       1.73958394, 1.69642253, 2.21830592, 1.51411361, 1.7418045 ,\n",
       "       2.06214121, 1.57456007, 1.29634793, 0.50049556, 1.66850876,\n",
       "       2.00263204, 1.72785869, 1.56102282, 1.83225662, 1.26944704,\n",
       "       1.24438669, 1.73373718, 1.73473229, 1.66732636, 1.6207457 ])"
      ]
     },
     "execution_count": 49,
     "metadata": {},
     "output_type": "execute_result"
    }
   ],
   "source": [
    "hours_exercised = rng.normal(1.5, 0.5 ,100)\n",
    "hours_exercised"
   ]
  },
  {
   "cell_type": "markdown",
   "metadata": {},
   "source": [
    "Diet\n",
    "\n",
    "4 values -  vegetarian, fatty, sugary, balanced"
   ]
  },
  {
   "cell_type": "code",
   "execution_count": 52,
   "metadata": {},
   "outputs": [
    {
     "data": {
      "text/plain": [
       "array(['Vegetarian', 'Vegetarian', 'Balanced', 'Fatty', 'Balanced',\n",
       "       'Balanced', 'Fatty', 'Sugary', 'Fatty', 'Vegetarian', 'Balanced',\n",
       "       'Balanced', 'Sugary', 'Vegetarian', 'Sugary', 'Vegetarian',\n",
       "       'Sugary', 'Sugary', 'Fatty', 'Balanced', 'Balanced', 'Sugary',\n",
       "       'Fatty', 'Balanced', 'Balanced', 'Balanced', 'Balanced',\n",
       "       'Balanced', 'Sugary', 'Fatty', 'Fatty', 'Sugary', 'Sugary',\n",
       "       'Vegetarian', 'Vegetarian', 'Fatty', 'Sugary', 'Fatty', 'Fatty',\n",
       "       'Sugary', 'Fatty', 'Balanced', 'Sugary', 'Sugary', 'Balanced',\n",
       "       'Sugary', 'Fatty', 'Balanced', 'Balanced', 'Balanced', 'Balanced',\n",
       "       'Vegetarian', 'Vegetarian', 'Sugary', 'Sugary', 'Fatty', 'Fatty',\n",
       "       'Sugary', 'Sugary', 'Vegetarian', 'Sugary', 'Fatty', 'Balanced',\n",
       "       'Balanced', 'Balanced', 'Fatty', 'Sugary', 'Balanced', 'Sugary',\n",
       "       'Sugary', 'Balanced', 'Sugary', 'Sugary', 'Sugary', 'Sugary',\n",
       "       'Sugary', 'Sugary', 'Sugary', 'Balanced', 'Balanced', 'Balanced',\n",
       "       'Sugary', 'Fatty', 'Balanced', 'Vegetarian', 'Sugary', 'Balanced',\n",
       "       'Balanced', 'Sugary', 'Balanced', 'Sugary', 'Fatty', 'Sugary',\n",
       "       'Vegetarian', 'Sugary', 'Sugary', 'Balanced', 'Fatty', 'Balanced',\n",
       "       'Vegetarian'], dtype='<U10')"
      ]
     },
     "execution_count": 52,
     "metadata": {},
     "output_type": "execute_result"
    }
   ],
   "source": [
    "diet_vals = ['Vegetarian', 'Fatty', 'Sugary', 'Balanced']\n",
    "diet  = rng.choice(diet_vals,p=[0.10, 0.17, 0.33, 0.40], size = 100)\n",
    "diet"
   ]
  },
  {
   "cell_type": "markdown",
   "metadata": {},
   "source": [
    "Calories - we must adjust the calories each person intakes each day whether they are a male/female & their height.\n",
    "\n",
    "Men - 2500\n",
    "Women - 2000\n",
    "\n",
    "https://www.nhs.uk/common-health-questions/food-and-diet/what-should-my-daily-intake-of-calories-be/\n",
    "\n",
    "so for men over 180 cm we want to have them vary over 2500 calories, and women under 162 cm we will want them to vary under 2k, with some outliers in there\n",
    "\n",
    "\n",
    "https://en.wikipedia.org/wiki/List_of_countries_by_food_energy_intake"
   ]
  },
  {
   "cell_type": "code",
   "execution_count": 314,
   "metadata": {
    "scrolled": true
   },
   "outputs": [
    {
     "ename": "SyntaxError",
     "evalue": "invalid syntax (<ipython-input-314-34e0734539fa>, line 4)",
     "output_type": "error",
     "traceback": [
      "\u001b[1;36m  File \u001b[1;32m\"<ipython-input-314-34e0734539fa>\"\u001b[1;36m, line \u001b[1;32m4\u001b[0m\n\u001b[1;33m    df['Calories_day'] = 2500 + rng.normal(100, 250)\u001b[0m\n\u001b[1;37m                       ^\u001b[0m\n\u001b[1;31mSyntaxError\u001b[0m\u001b[1;31m:\u001b[0m invalid syntax\n"
     ]
    }
   ],
   "source": [
    "for val, i in  df['Sex']:\n",
    "    if val == 'Male':\n",
    "        if df.loc[df['Height'][i] > 180:\n",
    "            df['Calories_day'] = 2500 + rng.normal(100, 250)\n",
    "        elif df['Height'] < 160:\n",
    "            df['Calories_day'] = 2500 - rng.normal(200, 150)\n",
    "        else:\n",
    "            df['Calories_day'] = 2500 + rng.normal(100, 200)\n",
    "    if val == 'Female':\n",
    "        if df['Height'] > 170:\n",
    "            df['Calories_day'] = 2000 + rng.normal(100, 250)\n",
    "        elif df['Height'] < 155:\n",
    "            df['Calories_day'] = 2000 - rng.normal(200, 150)\n",
    "        else:\n",
    "            df['Calories_day'] = 2000 + rng.normal(100, 200)"
   ]
  },
  {
   "cell_type": "code",
   "execution_count": 317,
   "metadata": {},
   "outputs": [],
   "source": [
    "def Calories():\n",
    "    cals_in =  [2500+ rng.normal(75, 250) if x == 'Male' else 2000+ rng.normal(75, 250) for x in df['Sex']]\n",
    "    return cals_in"
   ]
  },
  {
   "cell_type": "code",
   "execution_count": 318,
   "metadata": {},
   "outputs": [
    {
     "data": {
      "text/plain": [
       "[2178.146503635701,\n",
       " 2705.728503760054,\n",
       " 2667.3002216363084,\n",
       " 2720.4737889912753,\n",
       " 2166.2839350076456,\n",
       " 2594.898001516886,\n",
       " 2692.2496649202594,\n",
       " 2987.1815050406103,\n",
       " 2434.1098639845845,\n",
       " 2393.321393179668,\n",
       " 2774.522506356,\n",
       " 2288.2193034328334,\n",
       " 2661.82972359391,\n",
       " 2591.091678743286,\n",
       " 2283.551558073557,\n",
       " 2739.000867211839,\n",
       " 2960.9803619932914,\n",
       " 2349.640841560373,\n",
       " 2805.534852831892,\n",
       " 2915.008778449636,\n",
       " 2201.776290313404,\n",
       " 2417.030936446369,\n",
       " 2472.396244650623,\n",
       " 2569.416771092371,\n",
       " 2811.508185198247,\n",
       " 2613.137926967437,\n",
       " 2826.483219623972,\n",
       " 2932.2686504016274,\n",
       " 2271.5807495319705,\n",
       " 2724.765114527628,\n",
       " 2330.5809795850555,\n",
       " 2725.7164170818032,\n",
       " 2594.359441665452,\n",
       " 2715.2166890186068,\n",
       " 2693.624997212111,\n",
       " 2530.7356896415135,\n",
       " 2602.0802737654644,\n",
       " 2821.0022221439713,\n",
       " 2310.171642665783,\n",
       " 2613.9675085261515,\n",
       " 2686.800125145767,\n",
       " 2633.49405899266,\n",
       " 2267.3535480536093,\n",
       " 2620.3359585727408,\n",
       " 3309.3782632126745,\n",
       " 2586.722815449244,\n",
       " 2896.423275487664,\n",
       " 2533.4901800611738,\n",
       " 2716.2628874466595,\n",
       " 3020.609745636596,\n",
       " 2250.978647530788,\n",
       " 2806.633921743358,\n",
       " 2268.3758705495875,\n",
       " 2743.218167971207,\n",
       " 2719.789769982509,\n",
       " 2590.628900499906,\n",
       " 2753.980271865913,\n",
       " 2554.436923572923,\n",
       " 2522.8156456815227,\n",
       " 2359.497134149698,\n",
       " 2642.825740997797,\n",
       " 2844.521811694086,\n",
       " 2743.95629089947,\n",
       " 2528.9585856660055,\n",
       " 2651.4740429612907,\n",
       " 2513.700696130747,\n",
       " 2311.245887527133,\n",
       " 2552.1770661391465,\n",
       " 2482.9815259646793,\n",
       " 2148.4116790945427,\n",
       " 2038.7410358062943,\n",
       " 2487.4290509932844,\n",
       " 2399.6588265407768,\n",
       " 2598.607658217056,\n",
       " 2588.9575137174234,\n",
       " 2678.720380552229,\n",
       " 2373.2048957839647,\n",
       " 3130.269935127962,\n",
       " 2335.1956244459375,\n",
       " 2321.739546416587,\n",
       " 2455.661696324661,\n",
       " 2252.5539346885635,\n",
       " 2402.497811331181,\n",
       " 2121.5477594791864,\n",
       " 2351.3886530402715,\n",
       " 2449.6673164536414,\n",
       " 2823.4457462429596,\n",
       " 2550.984794063206,\n",
       " 2523.744485302935,\n",
       " 2914.4969980899023,\n",
       " 2689.140524514191,\n",
       " 2640.7469762073906,\n",
       " 2619.6942198839374,\n",
       " 2723.6243222074595,\n",
       " 2716.949118263827,\n",
       " 2826.784701282529,\n",
       " 2365.184053089034,\n",
       " 2909.1188067276516,\n",
       " 2397.6702316003825,\n",
       " 2837.107340264117]"
      ]
     },
     "execution_count": 318,
     "metadata": {},
     "output_type": "execute_result"
    }
   ],
   "source": [
    "Calories()"
   ]
  },
  {
   "cell_type": "code",
   "execution_count": 57,
   "metadata": {},
   "outputs": [
    {
     "data": {
      "text/plain": [
       "Series([], Name: Calories_day, dtype: object)"
      ]
     },
     "execution_count": 57,
     "metadata": {},
     "output_type": "execute_result"
    }
   ],
   "source": [
    "cals = df['Calories_day']\n",
    "cals"
   ]
  },
  {
   "cell_type": "markdown",
   "metadata": {},
   "source": [
    "Hours of sleep\n",
    "\n",
    "7 to 9 hours of sleep is recommended for people with 705 of people meeting this requirement, 17% get too much and 14% get too little, this can accuratley be summised by a normal-(gaussian) dist with a mean of 8 and a SD of 1, however the results provided in the second wily link below actually provide us with the mean and SD in minutes, so it is an easy conversion to hours.\n",
    "\n",
    "https://tilda.tcd.ie/news-events/2019/1910-sleep-older-adults/\n",
    "\n",
    "https://agsjournals.onlinelibrary.wiley.com/doi/full/10.1111/jgs.16177\n"
   ]
  },
  {
   "cell_type": "code",
   "execution_count": 79,
   "metadata": {},
   "outputs": [
    {
     "data": {
      "text/plain": [
       "array([ 8.96937233,  5.60533574,  7.53762386,  5.23891625,  7.30174565,\n",
       "        6.31757381,  7.20101899,  7.41875487,  7.9681857 ,  7.9787149 ,\n",
       "        7.55211698,  7.58707808,  6.71770174,  8.13811179,  7.55797381,\n",
       "        5.89872559,  7.94240653,  7.45565345,  7.71449456,  8.29889394,\n",
       "       10.64882742,  8.18246513,  6.44387234,  6.45400413,  7.19081657,\n",
       "        6.3243152 ,  9.35209859,  9.23658697,  7.55924905,  9.16531541,\n",
       "        8.46862953,  6.07499194,  8.80277985,  7.34366777,  6.97125183,\n",
       "        7.42495714,  6.84978524,  8.19695644,  8.12232406,  7.97432874,\n",
       "        9.4471117 ,  9.03193107,  7.40860833,  7.10233985,  8.07212949,\n",
       "        6.57722912,  6.83150343,  6.36478716,  9.96773983,  6.5230222 ,\n",
       "        8.78166807,  7.77159253,  5.18636381,  7.23954998,  7.2512868 ,\n",
       "        7.88225325,  7.5200149 ,  6.60580894,  7.87211023,  6.92794042,\n",
       "        9.01720028,  7.73246179,  9.29081975,  5.84402828,  7.24025218,\n",
       "        7.37310076,  5.67573651,  6.64503237,  8.50661928,  8.3097092 ,\n",
       "        4.52601491,  7.28249996,  7.98213544,  8.09314144,  8.06568554,\n",
       "        8.67844169,  8.97748831,  7.72785167,  6.69765722,  8.0572809 ,\n",
       "        7.05540602,  8.36202812,  6.08423188,  7.40226117,  7.14666516,\n",
       "        7.44776176,  7.77881962,  8.29903294,  8.41041003, 10.05807517,\n",
       "       10.3422284 ,  7.29182406,  8.55239105,  6.24021206,  6.24366172,\n",
       "        6.55260307,  6.73410371,  7.38918018,  7.71134107,  6.66592343])"
      ]
     },
     "execution_count": 79,
     "metadata": {},
     "output_type": "execute_result"
    }
   ],
   "source": [
    "hours_slept = (rng.normal(463, 72.6, 100)/60)\n",
    "hours_slept"
   ]
  },
  {
   "cell_type": "code",
   "execution_count": null,
   "metadata": {},
   "outputs": [],
   "source": []
  },
  {
   "cell_type": "markdown",
   "metadata": {},
   "source": [
    "Water Drank\n",
    "\n",
    "We should consume 2 litres of water per day, however, from a quick google search I found that the Irish population do not consume this amount on average."
   ]
  },
  {
   "cell_type": "code",
   "execution_count": 81,
   "metadata": {},
   "outputs": [],
   "source": [
    "water_drank = rng.normal(1.5, 0.45, 100)"
   ]
  },
  {
   "cell_type": "code",
   "execution_count": 82,
   "metadata": {},
   "outputs": [
    {
     "data": {
      "text/plain": [
       "array([2.18690915, 0.82434713, 1.03718579, 1.66471113, 1.53384042,\n",
       "       1.54113053, 1.08607035, 1.80032959, 1.0336848 , 1.52643896,\n",
       "       1.46882983, 1.67693685, 1.16182854, 1.75448403, 1.98082927,\n",
       "       1.03516649, 0.89076178, 1.38513541, 1.36004696, 0.91317223,\n",
       "       2.34307456, 0.78422224, 1.03694478, 1.19862763, 2.25429758,\n",
       "       1.84883187, 0.91678057, 1.82178898, 2.19780387, 1.17360747,\n",
       "       1.76087278, 2.27235699, 0.99203978, 1.1227781 , 1.62332423,\n",
       "       1.65510109, 1.27002425, 1.26001003, 1.81004811, 0.99315831,\n",
       "       0.47295625, 1.3436097 , 0.71040035, 1.04305022, 1.57422663,\n",
       "       0.96177853, 1.62664453, 0.40601011, 1.38254204, 1.22190401,\n",
       "       2.30359891, 1.29480584, 1.46306887, 1.15576607, 1.43461736,\n",
       "       1.18783778, 1.22440639, 1.07085096, 1.50998113, 1.78817672,\n",
       "       0.91665691, 1.74033912, 1.45144321, 1.31331315, 2.40151671,\n",
       "       1.49904819, 0.44208341, 1.28171249, 2.42987943, 1.22087422,\n",
       "       1.8251427 , 1.79791837, 1.67587167, 1.10150711, 1.18704588,\n",
       "       0.9394684 , 1.71522936, 1.31698845, 1.48118801, 1.36545186,\n",
       "       1.84325853, 1.60257204, 1.53919296, 1.87719736, 1.66584296,\n",
       "       1.15490809, 2.15472949, 1.27711679, 1.69350941, 2.20349124,\n",
       "       0.6353997 , 1.35894028, 1.50343598, 1.05598834, 0.88474952,\n",
       "       0.62670242, 1.18880533, 1.78901627, 1.32540229, 1.99436265])"
      ]
     },
     "execution_count": 82,
     "metadata": {},
     "output_type": "execute_result"
    }
   ],
   "source": [
    "water_drank"
   ]
  },
  {
   "cell_type": "code",
   "execution_count": 84,
   "metadata": {},
   "outputs": [],
   "source": [
    "df['Water_l_day'] = water_drank"
   ]
  },
  {
   "cell_type": "code",
   "execution_count": 85,
   "metadata": {},
   "outputs": [
    {
     "data": {
      "text/plain": [
       "0     2.186909\n",
       "1     0.824347\n",
       "2     1.037186\n",
       "3     1.664711\n",
       "4     1.533840\n",
       "        ...   \n",
       "95    0.626702\n",
       "96    1.188805\n",
       "97    1.789016\n",
       "98    1.325402\n",
       "99    1.994363\n",
       "Name: Water_l_day, Length: 100, dtype: float64"
      ]
     },
     "execution_count": 85,
     "metadata": {},
     "output_type": "execute_result"
    }
   ],
   "source": [
    "df['Water_l_day']"
   ]
  },
  {
   "cell_type": "code",
   "execution_count": 86,
   "metadata": {},
   "outputs": [],
   "source": [
    "df['Sex'] = sex"
   ]
  },
  {
   "cell_type": "code",
   "execution_count": null,
   "metadata": {},
   "outputs": [],
   "source": [
    "for val, i in  df['Sex']:\n",
    "    if val == 'Male':\n",
    "        if df.loc[df['Height'][i]] > 180:\n",
    "            df.loc[df['Calories_day'][i]] = 2500 + rng.normal(100, 250)\n",
    "        elif df['Height'] < 160:\n",
    "            df['Calories_day'] = 2500 - rng.normal(200, 150)\n",
    "        else:\n",
    "            df['Calories_day'] = 2500 + rng.normal(100, 200)\n",
    "    if val == 'Female':\n",
    "        if df['Height'] > 170:\n",
    "            df['Calories_day'] = 2000 + rng.normal(100, 250)\n",
    "        elif df['Height'] < 155:\n",
    "            df['Calories_day'] = 2000 - rng.normal(200, 150)\n",
    "        else:\n",
    "            df['Calories_day'] = 2000 + rng.normal(100, 200)"
   ]
  },
  {
   "cell_type": "code",
   "execution_count": 105,
   "metadata": {
    "scrolled": true
   },
   "outputs": [
    {
     "ename": "KeyError",
     "evalue": "'Calories_day'",
     "output_type": "error",
     "traceback": [
      "\u001b[1;31m---------------------------------------------------------------------------\u001b[0m",
      "\u001b[1;31mKeyError\u001b[0m                                  Traceback (most recent call last)",
      "\u001b[1;32m~\\Anaconda3\\lib\\site-packages\\pandas\\core\\indexes\\base.py\u001b[0m in \u001b[0;36mget_loc\u001b[1;34m(self, key, method, tolerance)\u001b[0m\n\u001b[0;32m   2896\u001b[0m             \u001b[1;32mtry\u001b[0m\u001b[1;33m:\u001b[0m\u001b[1;33m\u001b[0m\u001b[1;33m\u001b[0m\u001b[0m\n\u001b[1;32m-> 2897\u001b[1;33m                 \u001b[1;32mreturn\u001b[0m \u001b[0mself\u001b[0m\u001b[1;33m.\u001b[0m\u001b[0m_engine\u001b[0m\u001b[1;33m.\u001b[0m\u001b[0mget_loc\u001b[0m\u001b[1;33m(\u001b[0m\u001b[0mkey\u001b[0m\u001b[1;33m)\u001b[0m\u001b[1;33m\u001b[0m\u001b[1;33m\u001b[0m\u001b[0m\n\u001b[0m\u001b[0;32m   2898\u001b[0m             \u001b[1;32mexcept\u001b[0m \u001b[0mKeyError\u001b[0m\u001b[1;33m:\u001b[0m\u001b[1;33m\u001b[0m\u001b[1;33m\u001b[0m\u001b[0m\n",
      "\u001b[1;32mpandas\\_libs\\index.pyx\u001b[0m in \u001b[0;36mpandas._libs.index.IndexEngine.get_loc\u001b[1;34m()\u001b[0m\n",
      "\u001b[1;32mpandas\\_libs\\index.pyx\u001b[0m in \u001b[0;36mpandas._libs.index.IndexEngine.get_loc\u001b[1;34m()\u001b[0m\n",
      "\u001b[1;32mpandas\\_libs\\index_class_helper.pxi\u001b[0m in \u001b[0;36mpandas._libs.index.Int64Engine._check_type\u001b[1;34m()\u001b[0m\n",
      "\u001b[1;31mKeyError\u001b[0m: 'Calories_day'",
      "\nDuring handling of the above exception, another exception occurred:\n",
      "\u001b[1;31mKeyError\u001b[0m                                  Traceback (most recent call last)",
      "\u001b[1;32m<ipython-input-105-38c9744bab7d>\u001b[0m in \u001b[0;36m<module>\u001b[1;34m\u001b[0m\n\u001b[0;32m      2\u001b[0m     \u001b[1;32mif\u001b[0m \u001b[0mval\u001b[0m \u001b[1;33m==\u001b[0m \u001b[1;34m'Male'\u001b[0m\u001b[1;33m:\u001b[0m\u001b[1;33m\u001b[0m\u001b[1;33m\u001b[0m\u001b[0m\n\u001b[0;32m      3\u001b[0m         \u001b[1;32mif\u001b[0m \u001b[0mdf\u001b[0m\u001b[1;33m[\u001b[0m\u001b[1;34m'Height'\u001b[0m\u001b[1;33m]\u001b[0m\u001b[1;33m[\u001b[0m\u001b[1;36m0\u001b[0m\u001b[1;33m]\u001b[0m \u001b[1;33m>\u001b[0m \u001b[1;36m180\u001b[0m\u001b[1;33m:\u001b[0m\u001b[1;33m\u001b[0m\u001b[1;33m\u001b[0m\u001b[0m\n\u001b[1;32m----> 4\u001b[1;33m             \u001b[0mdf\u001b[0m\u001b[1;33m.\u001b[0m\u001b[0mloc\u001b[0m\u001b[1;33m[\u001b[0m\u001b[1;34m'Calories_day'\u001b[0m\u001b[1;33m]\u001b[0m\u001b[1;33m[\u001b[0m\u001b[1;36m0\u001b[0m\u001b[1;33m]\u001b[0m \u001b[1;33m=\u001b[0m \u001b[1;36m2500\u001b[0m \u001b[1;33m+\u001b[0m \u001b[0mrng\u001b[0m\u001b[1;33m.\u001b[0m\u001b[0mnormal\u001b[0m\u001b[1;33m(\u001b[0m\u001b[1;36m100\u001b[0m\u001b[1;33m,\u001b[0m \u001b[1;36m250\u001b[0m\u001b[1;33m)\u001b[0m\u001b[1;33m\u001b[0m\u001b[1;33m\u001b[0m\u001b[0m\n\u001b[0m",
      "\u001b[1;32m~\\Anaconda3\\lib\\site-packages\\pandas\\core\\indexing.py\u001b[0m in \u001b[0;36m__getitem__\u001b[1;34m(self, key)\u001b[0m\n\u001b[0;32m   1422\u001b[0m \u001b[1;33m\u001b[0m\u001b[0m\n\u001b[0;32m   1423\u001b[0m             \u001b[0mmaybe_callable\u001b[0m \u001b[1;33m=\u001b[0m \u001b[0mcom\u001b[0m\u001b[1;33m.\u001b[0m\u001b[0mapply_if_callable\u001b[0m\u001b[1;33m(\u001b[0m\u001b[0mkey\u001b[0m\u001b[1;33m,\u001b[0m \u001b[0mself\u001b[0m\u001b[1;33m.\u001b[0m\u001b[0mobj\u001b[0m\u001b[1;33m)\u001b[0m\u001b[1;33m\u001b[0m\u001b[1;33m\u001b[0m\u001b[0m\n\u001b[1;32m-> 1424\u001b[1;33m             \u001b[1;32mreturn\u001b[0m \u001b[0mself\u001b[0m\u001b[1;33m.\u001b[0m\u001b[0m_getitem_axis\u001b[0m\u001b[1;33m(\u001b[0m\u001b[0mmaybe_callable\u001b[0m\u001b[1;33m,\u001b[0m \u001b[0maxis\u001b[0m\u001b[1;33m=\u001b[0m\u001b[0maxis\u001b[0m\u001b[1;33m)\u001b[0m\u001b[1;33m\u001b[0m\u001b[1;33m\u001b[0m\u001b[0m\n\u001b[0m\u001b[0;32m   1425\u001b[0m \u001b[1;33m\u001b[0m\u001b[0m\n\u001b[0;32m   1426\u001b[0m     \u001b[1;32mdef\u001b[0m \u001b[0m_is_scalar_access\u001b[0m\u001b[1;33m(\u001b[0m\u001b[0mself\u001b[0m\u001b[1;33m,\u001b[0m \u001b[0mkey\u001b[0m\u001b[1;33m:\u001b[0m \u001b[0mTuple\u001b[0m\u001b[1;33m)\u001b[0m\u001b[1;33m:\u001b[0m\u001b[1;33m\u001b[0m\u001b[1;33m\u001b[0m\u001b[0m\n",
      "\u001b[1;32m~\\Anaconda3\\lib\\site-packages\\pandas\\core\\indexing.py\u001b[0m in \u001b[0;36m_getitem_axis\u001b[1;34m(self, key, axis)\u001b[0m\n\u001b[0;32m   1848\u001b[0m         \u001b[1;31m# fall thru to straight lookup\u001b[0m\u001b[1;33m\u001b[0m\u001b[1;33m\u001b[0m\u001b[1;33m\u001b[0m\u001b[0m\n\u001b[0;32m   1849\u001b[0m         \u001b[0mself\u001b[0m\u001b[1;33m.\u001b[0m\u001b[0m_validate_key\u001b[0m\u001b[1;33m(\u001b[0m\u001b[0mkey\u001b[0m\u001b[1;33m,\u001b[0m \u001b[0maxis\u001b[0m\u001b[1;33m)\u001b[0m\u001b[1;33m\u001b[0m\u001b[1;33m\u001b[0m\u001b[0m\n\u001b[1;32m-> 1850\u001b[1;33m         \u001b[1;32mreturn\u001b[0m \u001b[0mself\u001b[0m\u001b[1;33m.\u001b[0m\u001b[0m_get_label\u001b[0m\u001b[1;33m(\u001b[0m\u001b[0mkey\u001b[0m\u001b[1;33m,\u001b[0m \u001b[0maxis\u001b[0m\u001b[1;33m=\u001b[0m\u001b[0maxis\u001b[0m\u001b[1;33m)\u001b[0m\u001b[1;33m\u001b[0m\u001b[1;33m\u001b[0m\u001b[0m\n\u001b[0m\u001b[0;32m   1851\u001b[0m \u001b[1;33m\u001b[0m\u001b[0m\n\u001b[0;32m   1852\u001b[0m \u001b[1;33m\u001b[0m\u001b[0m\n",
      "\u001b[1;32m~\\Anaconda3\\lib\\site-packages\\pandas\\core\\indexing.py\u001b[0m in \u001b[0;36m_get_label\u001b[1;34m(self, label, axis)\u001b[0m\n\u001b[0;32m    158\u001b[0m             \u001b[1;32mraise\u001b[0m \u001b[0mIndexingError\u001b[0m\u001b[1;33m(\u001b[0m\u001b[1;34m\"no slices here, handle elsewhere\"\u001b[0m\u001b[1;33m)\u001b[0m\u001b[1;33m\u001b[0m\u001b[1;33m\u001b[0m\u001b[0m\n\u001b[0;32m    159\u001b[0m \u001b[1;33m\u001b[0m\u001b[0m\n\u001b[1;32m--> 160\u001b[1;33m         \u001b[1;32mreturn\u001b[0m \u001b[0mself\u001b[0m\u001b[1;33m.\u001b[0m\u001b[0mobj\u001b[0m\u001b[1;33m.\u001b[0m\u001b[0m_xs\u001b[0m\u001b[1;33m(\u001b[0m\u001b[0mlabel\u001b[0m\u001b[1;33m,\u001b[0m \u001b[0maxis\u001b[0m\u001b[1;33m=\u001b[0m\u001b[0maxis\u001b[0m\u001b[1;33m)\u001b[0m\u001b[1;33m\u001b[0m\u001b[1;33m\u001b[0m\u001b[0m\n\u001b[0m\u001b[0;32m    161\u001b[0m \u001b[1;33m\u001b[0m\u001b[0m\n\u001b[0;32m    162\u001b[0m     \u001b[1;32mdef\u001b[0m \u001b[0m_get_loc\u001b[0m\u001b[1;33m(\u001b[0m\u001b[0mself\u001b[0m\u001b[1;33m,\u001b[0m \u001b[0mkey\u001b[0m\u001b[1;33m:\u001b[0m \u001b[0mint\u001b[0m\u001b[1;33m,\u001b[0m \u001b[0maxis\u001b[0m\u001b[1;33m:\u001b[0m \u001b[0mint\u001b[0m\u001b[1;33m)\u001b[0m\u001b[1;33m:\u001b[0m\u001b[1;33m\u001b[0m\u001b[1;33m\u001b[0m\u001b[0m\n",
      "\u001b[1;32m~\\Anaconda3\\lib\\site-packages\\pandas\\core\\generic.py\u001b[0m in \u001b[0;36mxs\u001b[1;34m(self, key, axis, level, drop_level)\u001b[0m\n\u001b[0;32m   3735\u001b[0m             \u001b[0mloc\u001b[0m\u001b[1;33m,\u001b[0m \u001b[0mnew_index\u001b[0m \u001b[1;33m=\u001b[0m \u001b[0mself\u001b[0m\u001b[1;33m.\u001b[0m\u001b[0mindex\u001b[0m\u001b[1;33m.\u001b[0m\u001b[0mget_loc_level\u001b[0m\u001b[1;33m(\u001b[0m\u001b[0mkey\u001b[0m\u001b[1;33m,\u001b[0m \u001b[0mdrop_level\u001b[0m\u001b[1;33m=\u001b[0m\u001b[0mdrop_level\u001b[0m\u001b[1;33m)\u001b[0m\u001b[1;33m\u001b[0m\u001b[1;33m\u001b[0m\u001b[0m\n\u001b[0;32m   3736\u001b[0m         \u001b[1;32melse\u001b[0m\u001b[1;33m:\u001b[0m\u001b[1;33m\u001b[0m\u001b[1;33m\u001b[0m\u001b[0m\n\u001b[1;32m-> 3737\u001b[1;33m             \u001b[0mloc\u001b[0m \u001b[1;33m=\u001b[0m \u001b[0mself\u001b[0m\u001b[1;33m.\u001b[0m\u001b[0mindex\u001b[0m\u001b[1;33m.\u001b[0m\u001b[0mget_loc\u001b[0m\u001b[1;33m(\u001b[0m\u001b[0mkey\u001b[0m\u001b[1;33m)\u001b[0m\u001b[1;33m\u001b[0m\u001b[1;33m\u001b[0m\u001b[0m\n\u001b[0m\u001b[0;32m   3738\u001b[0m \u001b[1;33m\u001b[0m\u001b[0m\n\u001b[0;32m   3739\u001b[0m             \u001b[1;32mif\u001b[0m \u001b[0misinstance\u001b[0m\u001b[1;33m(\u001b[0m\u001b[0mloc\u001b[0m\u001b[1;33m,\u001b[0m \u001b[0mnp\u001b[0m\u001b[1;33m.\u001b[0m\u001b[0mndarray\u001b[0m\u001b[1;33m)\u001b[0m\u001b[1;33m:\u001b[0m\u001b[1;33m\u001b[0m\u001b[1;33m\u001b[0m\u001b[0m\n",
      "\u001b[1;32m~\\Anaconda3\\lib\\site-packages\\pandas\\core\\indexes\\range.py\u001b[0m in \u001b[0;36mget_loc\u001b[1;34m(self, key, method, tolerance)\u001b[0m\n\u001b[0;32m    377\u001b[0m             \u001b[1;32mexcept\u001b[0m \u001b[0mValueError\u001b[0m\u001b[1;33m:\u001b[0m\u001b[1;33m\u001b[0m\u001b[1;33m\u001b[0m\u001b[0m\n\u001b[0;32m    378\u001b[0m                 \u001b[1;32mraise\u001b[0m \u001b[0mKeyError\u001b[0m\u001b[1;33m(\u001b[0m\u001b[0mkey\u001b[0m\u001b[1;33m)\u001b[0m\u001b[1;33m\u001b[0m\u001b[1;33m\u001b[0m\u001b[0m\n\u001b[1;32m--> 379\u001b[1;33m         \u001b[1;32mreturn\u001b[0m \u001b[0msuper\u001b[0m\u001b[1;33m(\u001b[0m\u001b[1;33m)\u001b[0m\u001b[1;33m.\u001b[0m\u001b[0mget_loc\u001b[0m\u001b[1;33m(\u001b[0m\u001b[0mkey\u001b[0m\u001b[1;33m,\u001b[0m \u001b[0mmethod\u001b[0m\u001b[1;33m=\u001b[0m\u001b[0mmethod\u001b[0m\u001b[1;33m,\u001b[0m \u001b[0mtolerance\u001b[0m\u001b[1;33m=\u001b[0m\u001b[0mtolerance\u001b[0m\u001b[1;33m)\u001b[0m\u001b[1;33m\u001b[0m\u001b[1;33m\u001b[0m\u001b[0m\n\u001b[0m\u001b[0;32m    380\u001b[0m \u001b[1;33m\u001b[0m\u001b[0m\n\u001b[0;32m    381\u001b[0m     \u001b[1;33m@\u001b[0m\u001b[0mAppender\u001b[0m\u001b[1;33m(\u001b[0m\u001b[0m_index_shared_docs\u001b[0m\u001b[1;33m[\u001b[0m\u001b[1;34m\"get_indexer\"\u001b[0m\u001b[1;33m]\u001b[0m\u001b[1;33m)\u001b[0m\u001b[1;33m\u001b[0m\u001b[1;33m\u001b[0m\u001b[0m\n",
      "\u001b[1;32m~\\Anaconda3\\lib\\site-packages\\pandas\\core\\indexes\\base.py\u001b[0m in \u001b[0;36mget_loc\u001b[1;34m(self, key, method, tolerance)\u001b[0m\n\u001b[0;32m   2897\u001b[0m                 \u001b[1;32mreturn\u001b[0m \u001b[0mself\u001b[0m\u001b[1;33m.\u001b[0m\u001b[0m_engine\u001b[0m\u001b[1;33m.\u001b[0m\u001b[0mget_loc\u001b[0m\u001b[1;33m(\u001b[0m\u001b[0mkey\u001b[0m\u001b[1;33m)\u001b[0m\u001b[1;33m\u001b[0m\u001b[1;33m\u001b[0m\u001b[0m\n\u001b[0;32m   2898\u001b[0m             \u001b[1;32mexcept\u001b[0m \u001b[0mKeyError\u001b[0m\u001b[1;33m:\u001b[0m\u001b[1;33m\u001b[0m\u001b[1;33m\u001b[0m\u001b[0m\n\u001b[1;32m-> 2899\u001b[1;33m                 \u001b[1;32mreturn\u001b[0m \u001b[0mself\u001b[0m\u001b[1;33m.\u001b[0m\u001b[0m_engine\u001b[0m\u001b[1;33m.\u001b[0m\u001b[0mget_loc\u001b[0m\u001b[1;33m(\u001b[0m\u001b[0mself\u001b[0m\u001b[1;33m.\u001b[0m\u001b[0m_maybe_cast_indexer\u001b[0m\u001b[1;33m(\u001b[0m\u001b[0mkey\u001b[0m\u001b[1;33m)\u001b[0m\u001b[1;33m)\u001b[0m\u001b[1;33m\u001b[0m\u001b[1;33m\u001b[0m\u001b[0m\n\u001b[0m\u001b[0;32m   2900\u001b[0m         \u001b[0mindexer\u001b[0m \u001b[1;33m=\u001b[0m \u001b[0mself\u001b[0m\u001b[1;33m.\u001b[0m\u001b[0mget_indexer\u001b[0m\u001b[1;33m(\u001b[0m\u001b[1;33m[\u001b[0m\u001b[0mkey\u001b[0m\u001b[1;33m]\u001b[0m\u001b[1;33m,\u001b[0m \u001b[0mmethod\u001b[0m\u001b[1;33m=\u001b[0m\u001b[0mmethod\u001b[0m\u001b[1;33m,\u001b[0m \u001b[0mtolerance\u001b[0m\u001b[1;33m=\u001b[0m\u001b[0mtolerance\u001b[0m\u001b[1;33m)\u001b[0m\u001b[1;33m\u001b[0m\u001b[1;33m\u001b[0m\u001b[0m\n\u001b[0;32m   2901\u001b[0m         \u001b[1;32mif\u001b[0m \u001b[0mindexer\u001b[0m\u001b[1;33m.\u001b[0m\u001b[0mndim\u001b[0m \u001b[1;33m>\u001b[0m \u001b[1;36m1\u001b[0m \u001b[1;32mor\u001b[0m \u001b[0mindexer\u001b[0m\u001b[1;33m.\u001b[0m\u001b[0msize\u001b[0m \u001b[1;33m>\u001b[0m \u001b[1;36m1\u001b[0m\u001b[1;33m:\u001b[0m\u001b[1;33m\u001b[0m\u001b[1;33m\u001b[0m\u001b[0m\n",
      "\u001b[1;32mpandas\\_libs\\index.pyx\u001b[0m in \u001b[0;36mpandas._libs.index.IndexEngine.get_loc\u001b[1;34m()\u001b[0m\n",
      "\u001b[1;32mpandas\\_libs\\index.pyx\u001b[0m in \u001b[0;36mpandas._libs.index.IndexEngine.get_loc\u001b[1;34m()\u001b[0m\n",
      "\u001b[1;32mpandas\\_libs\\index_class_helper.pxi\u001b[0m in \u001b[0;36mpandas._libs.index.Int64Engine._check_type\u001b[1;34m()\u001b[0m\n",
      "\u001b[1;31mKeyError\u001b[0m: 'Calories_day'"
     ]
    }
   ],
   "source": [
    "for val in  df['Sex']:\n",
    "    if val == 'Male':\n",
    "        if df['Height'][0] > 180:\n",
    "            df.loc['Calories_day'][0] = 2500 + rng.normal(100, 250)"
   ]
  },
  {
   "cell_type": "code",
   "execution_count": 107,
   "metadata": {},
   "outputs": [
    {
     "data": {
      "text/plain": [
       "Age                                NaN\n",
       "Sex                               Male\n",
       "Height                         180.501\n",
       "Weight                             NaN\n",
       "Alcohol_units_wk                   NaN\n",
       "Smoker                             NaN\n",
       "Cigs/day                           NaN\n",
       "Time_Smoked_PrevExercise_wk        NaN\n",
       "Exercise_Consistency               NaN\n",
       "Diet                               NaN\n",
       "Calories_day                      2249\n",
       "Hours_Sleep                        NaN\n",
       "Water_l_day                    2.18691\n",
       "Stress_lvls                        NaN\n",
       "Underlying_health                  NaN\n",
       "Name: 0, dtype: object"
      ]
     },
     "execution_count": 107,
     "metadata": {},
     "output_type": "execute_result"
    }
   ],
   "source": [
    "df.loc[0]"
   ]
  },
  {
   "cell_type": "code",
   "execution_count": 101,
   "metadata": {},
   "outputs": [
    {
     "data": {
      "text/plain": [
       "0     0\n",
       "1     0\n",
       "2     0\n",
       "3     0\n",
       "4     0\n",
       "     ..\n",
       "95    0\n",
       "96    0\n",
       "97    0\n",
       "98    0\n",
       "99    0\n",
       "Name: Calories_day, Length: 100, dtype: int64"
      ]
     },
     "execution_count": 101,
     "metadata": {},
     "output_type": "execute_result"
    }
   ],
   "source": [
    "df['Calories_day']"
   ]
  },
  {
   "cell_type": "code",
   "execution_count": 95,
   "metadata": {},
   "outputs": [],
   "source": [
    "df['Height'] = height_male"
   ]
  },
  {
   "cell_type": "code",
   "execution_count": 96,
   "metadata": {},
   "outputs": [
    {
     "data": {
      "text/plain": [
       "0     180.500665\n",
       "1     178.195065\n",
       "2     187.170535\n",
       "3     180.030267\n",
       "4     187.997444\n",
       "         ...    \n",
       "95    183.428961\n",
       "96    183.885886\n",
       "97    172.531322\n",
       "98    178.478493\n",
       "99    180.071472\n",
       "Name: Height, Length: 100, dtype: float64"
      ]
     },
     "execution_count": 96,
     "metadata": {},
     "output_type": "execute_result"
    }
   ],
   "source": [
    "df['Height']"
   ]
  },
  {
   "cell_type": "code",
   "execution_count": null,
   "metadata": {},
   "outputs": [],
   "source": []
  }
 ],
 "metadata": {
  "kernelspec": {
   "display_name": "Python 3",
   "language": "python",
   "name": "python3"
  },
  "language_info": {
   "codemirror_mode": {
    "name": "ipython",
    "version": 3
   },
   "file_extension": ".py",
   "mimetype": "text/x-python",
   "name": "python",
   "nbconvert_exporter": "python",
   "pygments_lexer": "ipython3",
   "version": "3.7.4"
  }
 },
 "nbformat": 4,
 "nbformat_minor": 2
}
