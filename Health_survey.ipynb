{
 "cells": [
  {
   "cell_type": "code",
   "execution_count": 1,
   "metadata": {},
   "outputs": [],
   "source": [
    "import pandas as pd\n",
    "import numpy as np\n",
    "import seaborn as sns\n",
    "import matplotlib.pyplot as plt\n",
    "from sklearn.model_selection import train_test_split\n",
    "from sklearn.linear_model import LinearRegression\n",
    "%matplotlib inline"
   ]
  },
  {
   "cell_type": "markdown",
   "metadata": {},
   "source": [
    "### Simulating a real world phenomena\n",
    "\n",
    "Chosen phenom - physical health of the individual, based off results from a pseudo-survey.\n",
    "\n",
    "In essence I hope to simulate the results of a survey asking $n$ number of people about their health and lifestyle and attributing a grade of their general health. From the created dataset we would hope to predict the overall health of the inividual form their own inputs to the survey."
   ]
  },
  {
   "cell_type": "markdown",
   "metadata": {},
   "source": [
    "Age\n",
    "\n",
    "Sex\n",
    "\n",
    "Height\n",
    "\n",
    "Weight\n",
    "\n",
    "Drinker(alcoholic units/week)\n",
    "\n",
    "Smoker (cigarettes/day)\n",
    "\n",
    "Hours of exercise(/week)\n",
    "\n",
    "Diet(categorise)\n",
    "\n",
    "Calories eaten per day\n",
    "\n",
    "Average hours of sleep\n",
    "\n",
    "Water drank/ day\n",
    "\n",
    "BMI"
   ]
  },
  {
   "cell_type": "markdown",
   "metadata": {},
   "source": [
    "Firstly I will talk through my thought process for each of the above, what went in to selecting how to generate the data, and the references for each."
   ]
  },
  {
   "cell_type": "markdown",
   "metadata": {},
   "source": [
    "#### Age\n",
    "\n",
    "I just went for a random choice of ages between 18 and 55, for not particular reason, I debated using a distribution for this, but figured that if I was to get a sample ike this from the population, it would not really follow a distribution and would appear to be random.\n",
    "\n",
    "#### Sex\n",
    "\n",
    "Again, this is staight forward, I decided to see what the true ratio for males to feales in Ireland was and add these in as weights, this was sourced  from the below:\n",
    "\n",
    "https://www.cso.ie/en/releasesandpublications/ep/p-wamii/womenandmeninireland2019/sustainability/\n",
    "\n",
    "#### Height\n",
    "\n",
    "The mean for the normal distribution was selected from the bleow provided link, (Wiki, and wiki ref) and a normal/Gaussian distibution is a best fit for determining the heights of a sample size.\n",
    "\n",
    "https://en.wikipedia.org/wiki/Average_human_height_by_country#Table_of_heights\n",
    "\n",
    "ref: https://doi.org/10.1787%2F550623158455\n",
    "\n",
    "#### Weight\n",
    "\n",
    "Weight, I decided initally was to be a simple and straight forward random integer, based off the height of the individual, however, I found a dataset which I thought presented me with a good opportunity to show a better grasp on the learning outcomes we studied this semester. \n",
    "\n",
    "Dataset sourced from the below article:\n",
    "\n",
    "https://towardsdatascience.com/machine-learning-project-9-predict-weight-based-on-height-and-gender-9ed47285bcbb\n",
    "\n",
    "\n",
    "#### Drink(units/week)\n",
    "\n",
    "Fisrtly a choice was made with weights on whether someone was a drink or a non-drinker with weights relating to those who do not drink, taken from the below WHO study:\n",
    "\n",
    "https://www.who.int/substance_abuse/publications/global_alcohol_report/profiles/irl.pdf?ua=1\n",
    "\n",
    "Data on units of pure alcohol cansumed per year and broken down to per week, this was left as the mean of a gamma distribution, see reference, with a shape of 0.945 and a scale of 27.06, this was obtained from an average of the male and female figures in the below tables:\n",
    "\n",
    "Gamma ref: https://www.ncbi.nlm.nih.gov/pmc/articles/PMC3352241/\n",
    "Female: https://www.ncbi.nlm.nih.gov/pmc/articles/PMC3352241/table/T1/\n",
    "Male: https://www.ncbi.nlm.nih.gov/pmc/articles/PMC3352241/table/T2/\n",
    "\n",
    "#### Smoker (cigarettes/day)\n",
    "\n",
    "Again, similar to the above, this is choice of n=smoker or non-smoker and then a calculation based off a probaility ditribution, in this case, the normal, as unlike alcohol, I see this as a more evenly distributed event across the mean rather than 20% of the users smoking 60% of the cigarettes.\n",
    "\n",
    "#### Exercise (hours/weekly)\n",
    "\n",
    "\n",
    "The National Guidelines for Physical Activity recommends that people should undertake at least 150 minutes of activity per week, made up of at least 30 minutes of moderate activity, five times a week. However 33% of Irish adults do not get sufficient exercise. \n",
    "\n",
    "Average number of hours exercisd per week sourced from: \n",
    "https://www.hse.ie/eng/about/who/healthwellbeing/our-priority-programmes/heal/physical-activity-guidelines/\n",
    "\n",
    "https://www.euro.who.int/__data/assets/pdf_file/0005/382514/ireland-eng.pdf\n",
    "\n",
    "#### Diet\n",
    "\n",
    "This data is pretty much made up by me on the spot, 14% of vegetarians is sourced from Wikipedia, the percentage of the population of the United Kingdom who reprted to be vegetarian. The survey asked how would respondents classify their diet given the options of: Vegetarian, Fatty, Sugary, or Balanced.\n",
    "\n",
    "\n",
    "#### Calories\n",
    "\n",
    "Recommended daily intake of calories for men is 2,500 and  2,000 for women, I introduced some noise into this category to relfect the different intakes for different people. \n",
    "\n",
    "If I was to ritique this approach it is that these figures would vary according to diet above, and height, not just gender.\n",
    "\n",
    "https://www.nhs.uk/common-health-questions/food-and-diet/what-should-my-daily-intake-of-calories-be/\n",
    "\n",
    "#### Water\n",
    "\n",
    "I found that much of the Irish population do not drink the recommended 2 litres of water per day, myself included, so therefore the mean of this ditribution is 1.45l with additional variance of 0.45l\n",
    "\n",
    "\n",
    "#### BMI \n",
    "\n",
    "This is a basic calculation of one weight divided by their height in $m^2$. "
   ]
  },
  {
   "cell_type": "markdown",
   "metadata": {},
   "source": [
    "<b>"
   ]
  },
  {
   "cell_type": "markdown",
   "metadata": {},
   "source": [
    "### Creating the dataset"
   ]
  },
  {
   "cell_type": "markdown",
   "metadata": {},
   "source": [
    "So our first item it to create a dateset with these criteria as column headers."
   ]
  },
  {
   "cell_type": "code",
   "execution_count": 2,
   "metadata": {},
   "outputs": [],
   "source": [
    "columns=['Age', 'Sex','Height(cm)', 'Weight(kg)', 'Drinker', 'Alcohol(units_wk)','Smoker', 'Cigs(/day)', 'Exercise(hrs_wk)', 'Diet',\n",
    "                           'Calories_day','Hours_Sleep', 'Water(l_day)']"
   ]
  },
  {
   "cell_type": "markdown",
   "metadata": {},
   "source": [
    "Create the dataframe"
   ]
  },
  {
   "cell_type": "code",
   "execution_count": 3,
   "metadata": {},
   "outputs": [],
   "source": [
    "df = pd.DataFrame(columns = columns)"
   ]
  },
  {
   "cell_type": "code",
   "execution_count": 4,
   "metadata": {},
   "outputs": [],
   "source": [
    "rng = np.random.default_rng(seed =42)"
   ]
  },
  {
   "cell_type": "code",
   "execution_count": 5,
   "metadata": {},
   "outputs": [],
   "source": [
    "def age():\n",
    "    return rng.integers(18, 60) "
   ]
  },
  {
   "cell_type": "code",
   "execution_count": 6,
   "metadata": {},
   "outputs": [],
   "source": [
    "def sexes():\n",
    "    sexes = ['Male', 'Female']\n",
    "    sex  = rng.choice((sexes),p=[0.4953, 0.5047])\n",
    "    return sex"
   ]
  },
  {
   "cell_type": "code",
   "execution_count": 7,
   "metadata": {},
   "outputs": [],
   "source": [
    "def Heights():\n",
    "    height = [rng.normal(179, 8) if x == 'Male' else rng.normal(165, 7) for x in df['Sex']]\n",
    "    return height"
   ]
  },
  {
   "cell_type": "code",
   "execution_count": 8,
   "metadata": {},
   "outputs": [],
   "source": [
    "def drinker():\n",
    "    drinker = ['NonDrinker', 'Drinker']\n",
    "    drinkers  = rng.choice(drinker,p=[0.114, 0.886])\n",
    "    return drinkers"
   ]
  },
  {
   "cell_type": "code",
   "execution_count": 9,
   "metadata": {},
   "outputs": [],
   "source": [
    "def units_drank():\n",
    "    units = [rng.gamma(0.945, 27.06) if x == 'Drinker' else 0 for x in df['Drinker']]\n",
    "    return units"
   ]
  },
  {
   "cell_type": "code",
   "execution_count": 10,
   "metadata": {},
   "outputs": [],
   "source": [
    "def smoker():\n",
    "    smoker = ['non_smoker', 'smoker']\n",
    "    smokers  = rng.choice(smoker,p=[0.83, 0.17])\n",
    "    return smokers"
   ]
  },
  {
   "cell_type": "code",
   "execution_count": 11,
   "metadata": {},
   "outputs": [],
   "source": [
    "def cig_smoked():\n",
    "    cigarettes_smoked = [rng.normal(12.5, 5) if x == 'smoker' else 0 for x in df['Smoker']]\n",
    "    return cigarettes_smoked"
   ]
  },
  {
   "cell_type": "code",
   "execution_count": 12,
   "metadata": {},
   "outputs": [],
   "source": [
    "def Exercise():\n",
    "    hours_exercised = rng.normal(1.5, 0.5)\n",
    "    return hours_exercised"
   ]
  },
  {
   "cell_type": "code",
   "execution_count": 13,
   "metadata": {},
   "outputs": [],
   "source": [
    "def Diet():\n",
    "    diet_vals = ['Vegetarian', 'Fatty', 'Sugary', 'Balanced']\n",
    "    diet  = rng.choice(diet_vals,p=[0.14, 0.13, 0.33, 0.40])\n",
    "    return diet"
   ]
  },
  {
   "cell_type": "code",
   "execution_count": 14,
   "metadata": {},
   "outputs": [],
   "source": [
    "def Calories():\n",
    "    cals_in =  [2500+ rng.normal(75, 250) if x == 'Male' else 2000+ rng.normal(75, 250) for x in df['Sex']]\n",
    "    return cals_in"
   ]
  },
  {
   "cell_type": "code",
   "execution_count": 15,
   "metadata": {},
   "outputs": [],
   "source": [
    "def Sleep():\n",
    "    hours_slept = (rng.normal(463, 72.6)/60)\n",
    "    return hours_slept"
   ]
  },
  {
   "cell_type": "code",
   "execution_count": 16,
   "metadata": {},
   "outputs": [],
   "source": [
    "def water():\n",
    "    water_intake = rng.normal(1.5, 0.45)\n",
    "    return water_intake"
   ]
  },
  {
   "cell_type": "code",
   "execution_count": 17,
   "metadata": {},
   "outputs": [],
   "source": [
    "def BMI():\n",
    "    bmi = df['Weight']/ (df['Height']/100)**2\n",
    "    return bmi"
   ]
  },
  {
   "cell_type": "code",
   "execution_count": 18,
   "metadata": {},
   "outputs": [],
   "source": [
    "n = 100"
   ]
  },
  {
   "cell_type": "code",
   "execution_count": 19,
   "metadata": {},
   "outputs": [],
   "source": [
    "for i in range(n):\n",
    "    df.loc[i] = [age(), sexes(), 'NA', 'NA', drinker(), 'NA', smoker(), 'NA',  Exercise(), Diet(), 'NA', Sleep(), water()]"
   ]
  },
  {
   "cell_type": "code",
   "execution_count": 20,
   "metadata": {},
   "outputs": [],
   "source": [
    "df['Height(cm)'], df['Alcohol(units_wk)'], df['Cigs(/day)'], df['Calories_day'] = Heights(), units_drank(), cig_smoked(), Calories()"
   ]
  },
  {
   "cell_type": "code",
   "execution_count": 21,
   "metadata": {
    "scrolled": true
   },
   "outputs": [
    {
     "data": {
      "text/html": [
       "<div>\n",
       "<style scoped>\n",
       "    .dataframe tbody tr th:only-of-type {\n",
       "        vertical-align: middle;\n",
       "    }\n",
       "\n",
       "    .dataframe tbody tr th {\n",
       "        vertical-align: top;\n",
       "    }\n",
       "\n",
       "    .dataframe thead th {\n",
       "        text-align: right;\n",
       "    }\n",
       "</style>\n",
       "<table border=\"1\" class=\"dataframe\">\n",
       "  <thead>\n",
       "    <tr style=\"text-align: right;\">\n",
       "      <th></th>\n",
       "      <th>Age</th>\n",
       "      <th>Sex</th>\n",
       "      <th>Height(cm)</th>\n",
       "      <th>Weight(kg)</th>\n",
       "      <th>Drinker</th>\n",
       "      <th>Alcohol(units_wk)</th>\n",
       "      <th>Smoker</th>\n",
       "      <th>Cigs(/day)</th>\n",
       "      <th>Exercise(hrs_wk)</th>\n",
       "      <th>Diet</th>\n",
       "      <th>Calories_day</th>\n",
       "      <th>Hours_Sleep</th>\n",
       "      <th>Water(l_day)</th>\n",
       "    </tr>\n",
       "  </thead>\n",
       "  <tbody>\n",
       "    <tr>\n",
       "      <td>0</td>\n",
       "      <td>21</td>\n",
       "      <td>Male</td>\n",
       "      <td>166.041024</td>\n",
       "      <td>NA</td>\n",
       "      <td>Drinker</td>\n",
       "      <td>35.361843</td>\n",
       "      <td>non_smoker</td>\n",
       "      <td>0.0</td>\n",
       "      <td>0.524482</td>\n",
       "      <td>Balanced</td>\n",
       "      <td>2443.020591</td>\n",
       "      <td>7.871354</td>\n",
       "      <td>1.357691</td>\n",
       "    </tr>\n",
       "    <tr>\n",
       "      <td>1</td>\n",
       "      <td>50</td>\n",
       "      <td>Male</td>\n",
       "      <td>161.021852</td>\n",
       "      <td>NA</td>\n",
       "      <td>Drinker</td>\n",
       "      <td>106.884010</td>\n",
       "      <td>non_smoker</td>\n",
       "      <td>0.0</td>\n",
       "      <td>1.888896</td>\n",
       "      <td>Balanced</td>\n",
       "      <td>2574.651837</td>\n",
       "      <td>9.080629</td>\n",
       "      <td>1.710379</td>\n",
       "    </tr>\n",
       "    <tr>\n",
       "      <td>2</td>\n",
       "      <td>36</td>\n",
       "      <td>Female</td>\n",
       "      <td>172.012218</td>\n",
       "      <td>NA</td>\n",
       "      <td>NonDrinker</td>\n",
       "      <td>0.000000</td>\n",
       "      <td>non_smoker</td>\n",
       "      <td>0.0</td>\n",
       "      <td>1.475037</td>\n",
       "      <td>Balanced</td>\n",
       "      <td>2321.534079</td>\n",
       "      <td>6.892742</td>\n",
       "      <td>2.050144</td>\n",
       "    </tr>\n",
       "    <tr>\n",
       "      <td>3</td>\n",
       "      <td>27</td>\n",
       "      <td>Female</td>\n",
       "      <td>173.314076</td>\n",
       "      <td>NA</td>\n",
       "      <td>Drinker</td>\n",
       "      <td>32.881389</td>\n",
       "      <td>non_smoker</td>\n",
       "      <td>0.0</td>\n",
       "      <td>1.766155</td>\n",
       "      <td>Vegetarian</td>\n",
       "      <td>1935.557164</td>\n",
       "      <td>8.216073</td>\n",
       "      <td>1.693869</td>\n",
       "    </tr>\n",
       "    <tr>\n",
       "      <td>4</td>\n",
       "      <td>56</td>\n",
       "      <td>Female</td>\n",
       "      <td>157.855639</td>\n",
       "      <td>NA</td>\n",
       "      <td>Drinker</td>\n",
       "      <td>12.331820</td>\n",
       "      <td>non_smoker</td>\n",
       "      <td>0.0</td>\n",
       "      <td>1.807990</td>\n",
       "      <td>Fatty</td>\n",
       "      <td>2276.419660</td>\n",
       "      <td>7.578790</td>\n",
       "      <td>1.121930</td>\n",
       "    </tr>\n",
       "    <tr>\n",
       "      <td>...</td>\n",
       "      <td>...</td>\n",
       "      <td>...</td>\n",
       "      <td>...</td>\n",
       "      <td>...</td>\n",
       "      <td>...</td>\n",
       "      <td>...</td>\n",
       "      <td>...</td>\n",
       "      <td>...</td>\n",
       "      <td>...</td>\n",
       "      <td>...</td>\n",
       "      <td>...</td>\n",
       "      <td>...</td>\n",
       "      <td>...</td>\n",
       "    </tr>\n",
       "    <tr>\n",
       "      <td>95</td>\n",
       "      <td>58</td>\n",
       "      <td>Male</td>\n",
       "      <td>175.961548</td>\n",
       "      <td>NA</td>\n",
       "      <td>NonDrinker</td>\n",
       "      <td>0.000000</td>\n",
       "      <td>non_smoker</td>\n",
       "      <td>0.0</td>\n",
       "      <td>2.024587</td>\n",
       "      <td>Balanced</td>\n",
       "      <td>2050.637261</td>\n",
       "      <td>6.614871</td>\n",
       "      <td>1.751347</td>\n",
       "    </tr>\n",
       "    <tr>\n",
       "      <td>96</td>\n",
       "      <td>38</td>\n",
       "      <td>Male</td>\n",
       "      <td>172.976865</td>\n",
       "      <td>NA</td>\n",
       "      <td>NonDrinker</td>\n",
       "      <td>0.000000</td>\n",
       "      <td>non_smoker</td>\n",
       "      <td>0.0</td>\n",
       "      <td>0.982461</td>\n",
       "      <td>Vegetarian</td>\n",
       "      <td>2351.448162</td>\n",
       "      <td>7.461732</td>\n",
       "      <td>0.952849</td>\n",
       "    </tr>\n",
       "    <tr>\n",
       "      <td>97</td>\n",
       "      <td>34</td>\n",
       "      <td>Male</td>\n",
       "      <td>171.845232</td>\n",
       "      <td>NA</td>\n",
       "      <td>Drinker</td>\n",
       "      <td>28.295347</td>\n",
       "      <td>non_smoker</td>\n",
       "      <td>0.0</td>\n",
       "      <td>0.988860</td>\n",
       "      <td>Fatty</td>\n",
       "      <td>2509.231644</td>\n",
       "      <td>9.081569</td>\n",
       "      <td>0.473668</td>\n",
       "    </tr>\n",
       "    <tr>\n",
       "      <td>98</td>\n",
       "      <td>56</td>\n",
       "      <td>Female</td>\n",
       "      <td>162.716166</td>\n",
       "      <td>NA</td>\n",
       "      <td>Drinker</td>\n",
       "      <td>7.719181</td>\n",
       "      <td>non_smoker</td>\n",
       "      <td>0.0</td>\n",
       "      <td>1.883659</td>\n",
       "      <td>Vegetarian</td>\n",
       "      <td>1903.536831</td>\n",
       "      <td>6.362028</td>\n",
       "      <td>1.701516</td>\n",
       "    </tr>\n",
       "    <tr>\n",
       "      <td>99</td>\n",
       "      <td>38</td>\n",
       "      <td>Male</td>\n",
       "      <td>190.419882</td>\n",
       "      <td>NA</td>\n",
       "      <td>NonDrinker</td>\n",
       "      <td>0.000000</td>\n",
       "      <td>non_smoker</td>\n",
       "      <td>0.0</td>\n",
       "      <td>1.639072</td>\n",
       "      <td>Vegetarian</td>\n",
       "      <td>2920.426898</td>\n",
       "      <td>8.657765</td>\n",
       "      <td>1.863154</td>\n",
       "    </tr>\n",
       "  </tbody>\n",
       "</table>\n",
       "<p>100 rows × 13 columns</p>\n",
       "</div>"
      ],
      "text/plain": [
       "   Age     Sex  Height(cm) Weight(kg)     Drinker  Alcohol(units_wk)  \\\n",
       "0   21    Male  166.041024         NA     Drinker          35.361843   \n",
       "1   50    Male  161.021852         NA     Drinker         106.884010   \n",
       "2   36  Female  172.012218         NA  NonDrinker           0.000000   \n",
       "3   27  Female  173.314076         NA     Drinker          32.881389   \n",
       "4   56  Female  157.855639         NA     Drinker          12.331820   \n",
       "..  ..     ...         ...        ...         ...                ...   \n",
       "95  58    Male  175.961548         NA  NonDrinker           0.000000   \n",
       "96  38    Male  172.976865         NA  NonDrinker           0.000000   \n",
       "97  34    Male  171.845232         NA     Drinker          28.295347   \n",
       "98  56  Female  162.716166         NA     Drinker           7.719181   \n",
       "99  38    Male  190.419882         NA  NonDrinker           0.000000   \n",
       "\n",
       "        Smoker  Cigs(/day)  Exercise(hrs_wk)        Diet  Calories_day  \\\n",
       "0   non_smoker         0.0          0.524482    Balanced   2443.020591   \n",
       "1   non_smoker         0.0          1.888896    Balanced   2574.651837   \n",
       "2   non_smoker         0.0          1.475037    Balanced   2321.534079   \n",
       "3   non_smoker         0.0          1.766155  Vegetarian   1935.557164   \n",
       "4   non_smoker         0.0          1.807990       Fatty   2276.419660   \n",
       "..         ...         ...               ...         ...           ...   \n",
       "95  non_smoker         0.0          2.024587    Balanced   2050.637261   \n",
       "96  non_smoker         0.0          0.982461  Vegetarian   2351.448162   \n",
       "97  non_smoker         0.0          0.988860       Fatty   2509.231644   \n",
       "98  non_smoker         0.0          1.883659  Vegetarian   1903.536831   \n",
       "99  non_smoker         0.0          1.639072  Vegetarian   2920.426898   \n",
       "\n",
       "    Hours_Sleep  Water(l_day)  \n",
       "0      7.871354      1.357691  \n",
       "1      9.080629      1.710379  \n",
       "2      6.892742      2.050144  \n",
       "3      8.216073      1.693869  \n",
       "4      7.578790      1.121930  \n",
       "..          ...           ...  \n",
       "95     6.614871      1.751347  \n",
       "96     7.461732      0.952849  \n",
       "97     9.081569      0.473668  \n",
       "98     6.362028      1.701516  \n",
       "99     8.657765      1.863154  \n",
       "\n",
       "[100 rows x 13 columns]"
      ]
     },
     "execution_count": 21,
     "metadata": {},
     "output_type": "execute_result"
    }
   ],
   "source": [
    "df"
   ]
  },
  {
   "cell_type": "markdown",
   "metadata": {},
   "source": [
    "### Weight\n",
    "\n",
    "I have decided to do something a little different for our weight column, we will use an existing real-world dataset and predict the weights of individuals based on their sex and height. While the weight of an individual is not linearly related to their height and weight these factors do have a great influence on it, I think this is a better measure than getting random data based on average weights, and not have any correlation between the two.\n",
    "\n",
    "\n",
    "Dataset sourced from the below article:\n",
    "\n",
    "https://towardsdatascience.com/machine-learning-project-9-predict-weight-based-on-height-and-gender-9ed47285bcbb"
   ]
  },
  {
   "cell_type": "code",
   "execution_count": null,
   "metadata": {},
   "outputs": [],
   "source": [
    "height_weight_ds = pd.read_csv(\"https://raw.githubusercontent.com/omairaasim/machine_learning/master/project_9_predict_weight_sex/weight-height.csv\")"
   ]
  },
  {
   "cell_type": "code",
   "execution_count": null,
   "metadata": {
    "scrolled": true
   },
   "outputs": [],
   "source": [
    "height_weight_ds.isnull().sum()"
   ]
  },
  {
   "cell_type": "markdown",
   "metadata": {},
   "source": [
    "Let's take a look at the top 5 rows and see what the data looks like."
   ]
  },
  {
   "cell_type": "code",
   "execution_count": null,
   "metadata": {},
   "outputs": [],
   "source": [
    "height_weight_ds.head()"
   ]
  },
  {
   "cell_type": "markdown",
   "metadata": {},
   "source": [
    "There is one obvious difficulty here, it looks like this dataset is what we'll call... American, and not in the way that a man 73.84cm tall weighs 241.89kg, it seems the dataset is in inches and pounds, both units of measure that's for sure, we will need to convert these to metric. Thankfully it's not as if we're sending a probe to Mars or anything of that sort, so we can use the below conversions:\n",
    "\n",
    "For lbs to kg: 1 kg  = 0.453592 lbs\n",
    "\n",
    "https://www.inchcalculator.com/convert/pound-to-kilogram/\n",
    "\n",
    "For inches to cm: 1in = 2.54cm\n",
    "\n",
    "https://www.inchcalculator.com/convert/inch-to-centimeter/"
   ]
  },
  {
   "cell_type": "code",
   "execution_count": null,
   "metadata": {},
   "outputs": [],
   "source": [
    "height_weight_ds['Height'] = height_weight_ds['Height']*2.54\n",
    "height_weight_ds['Weight'] = height_weight_ds['Weight']*0.453592"
   ]
  },
  {
   "cell_type": "markdown",
   "metadata": {},
   "source": [
    "We must convert the categorical values to numeric values to be used in our ML model"
   ]
  },
  {
   "cell_type": "code",
   "execution_count": null,
   "metadata": {},
   "outputs": [],
   "source": [
    "height_weight_ds['Gender'].replace('Female',0, inplace=True)\n",
    "height_weight_ds['Gender'].replace('Male',1, inplace=True)"
   ]
  },
  {
   "cell_type": "markdown",
   "metadata": {},
   "source": [
    "We now need to get the weight of in one variable, and the gender and height, now (0,1) in another variable for training and testing."
   ]
  },
  {
   "cell_type": "code",
   "execution_count": null,
   "metadata": {},
   "outputs": [],
   "source": [
    "X = height_weight_ds.iloc[:, :2].values\n",
    "y = height_weight_ds.iloc[:, 2].values"
   ]
  },
  {
   "cell_type": "markdown",
   "metadata": {},
   "source": [
    "Split the dataset 80% for training and 20% for testing, and complete our training, we will then create a similarly formatted datafrome using df.loc and te .replace() used above, we can then pass our predict_input as our df['Weight'] column."
   ]
  },
  {
   "cell_type": "code",
   "execution_count": null,
   "metadata": {},
   "outputs": [],
   "source": [
    "X_train, X_test, y_train, y_test = train_test_split(X, y, test_size=0.2, random_state=0)"
   ]
  },
  {
   "cell_type": "code",
   "execution_count": null,
   "metadata": {},
   "outputs": [],
   "source": [
    "lin_reg = LinearRegression()"
   ]
  },
  {
   "cell_type": "code",
   "execution_count": null,
   "metadata": {},
   "outputs": [],
   "source": [
    "lin_reg.fit(X_train, y_train)"
   ]
  },
  {
   "cell_type": "markdown",
   "metadata": {},
   "source": [
    "Traing completed, we can now "
   ]
  },
  {
   "cell_type": "code",
   "execution_count": null,
   "metadata": {},
   "outputs": [],
   "source": [
    "predict_input = df.loc[:,('Sex', 'Height(cm)')]"
   ]
  },
  {
   "cell_type": "code",
   "execution_count": null,
   "metadata": {},
   "outputs": [],
   "source": [
    "predict_input"
   ]
  },
  {
   "cell_type": "code",
   "execution_count": null,
   "metadata": {},
   "outputs": [],
   "source": [
    "predict_input['Sex'].replace('Female',0, inplace=True)\n",
    "predict_input['Sex'].replace('Male',1, inplace=True)"
   ]
  },
  {
   "cell_type": "code",
   "execution_count": null,
   "metadata": {},
   "outputs": [],
   "source": [
    "predict_input"
   ]
  },
  {
   "cell_type": "code",
   "execution_count": null,
   "metadata": {},
   "outputs": [],
   "source": [
    "df['Weight(kg)'] = lin_reg.predict(predict_input)"
   ]
  },
  {
   "cell_type": "code",
   "execution_count": null,
   "metadata": {},
   "outputs": [],
   "source": [
    "df"
   ]
  },
  {
   "cell_type": "markdown",
   "metadata": {},
   "source": [
    "### Visualising the dataset"
   ]
  },
  {
   "cell_type": "markdown",
   "metadata": {},
   "source": [
    "We can take a quick look at our overall dataset using pairplot and see if we can see any relationships or patterns across genders, or any other categories. I expect there will be quite a strong one in 'Weight'."
   ]
  },
  {
   "cell_type": "code",
   "execution_count": null,
   "metadata": {},
   "outputs": [],
   "source": [
    "sns.pairplot(data=df)"
   ]
  },
  {
   "cell_type": "code",
   "execution_count": null,
   "metadata": {},
   "outputs": [],
   "source": []
  },
  {
   "cell_type": "code",
   "execution_count": null,
   "metadata": {},
   "outputs": [],
   "source": []
  },
  {
   "cell_type": "code",
   "execution_count": null,
   "metadata": {},
   "outputs": [],
   "source": []
  },
  {
   "cell_type": "code",
   "execution_count": null,
   "metadata": {},
   "outputs": [],
   "source": []
  }
 ],
 "metadata": {
  "kernelspec": {
   "display_name": "Python 3",
   "language": "python",
   "name": "python3"
  },
  "language_info": {
   "codemirror_mode": {
    "name": "ipython",
    "version": 3
   },
   "file_extension": ".py",
   "mimetype": "text/x-python",
   "name": "python",
   "nbconvert_exporter": "python",
   "pygments_lexer": "ipython3",
   "version": "3.7.4"
  }
 },
 "nbformat": 4,
 "nbformat_minor": 2
}
